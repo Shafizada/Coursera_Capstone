{
 "cells": [
  {
   "cell_type": "markdown",
   "metadata": {},
   "source": [
    "## Description of the problem"
   ]
  },
  {
   "cell_type": "markdown",
   "metadata": {},
   "source": [
    "Nowadays, when opening new business it is very important to have a good reccomendation on online platforms in order to attract more cusromers. The purpose of this project is to have explatory data analyses on businesses in city of Brugge and give reccomendations to the businesses how to get better review on foursqure.com.  Additionally, investigation on opoularity of venues will give some idea to which business to start in Brugge.  "
   ]
  },
  {
   "cell_type": "markdown",
   "metadata": {},
   "source": [
    "## Description of data"
   ]
  },
  {
   "cell_type": "markdown",
   "metadata": {},
   "source": [
    "The location data from foursquare will be used. The idea is to find some correlation between the popularity of the venue and its parameters. The popularity will be defined by reviews, better reviews means popular venue. Parameters like a neigboorhood or category of the venue and other factors will be checked to see what is the most important parameter that affect the popularity the venue. "
   ]
  },
  {
   "cell_type": "code",
   "execution_count": null,
   "metadata": {},
   "outputs": [],
   "source": []
  }
 ],
 "metadata": {
  "kernelspec": {
   "display_name": "Python",
   "language": "python",
   "name": "conda-env-python-py"
  },
  "language_info": {
   "codemirror_mode": {
    "name": "ipython",
    "version": 3
   },
   "file_extension": ".py",
   "mimetype": "text/x-python",
   "name": "python",
   "nbconvert_exporter": "python",
   "pygments_lexer": "ipython3",
   "version": "3.6.11"
  }
 },
 "nbformat": 4,
 "nbformat_minor": 4
}
