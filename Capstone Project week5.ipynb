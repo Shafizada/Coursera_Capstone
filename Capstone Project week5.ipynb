{
 "cells": [
  {
   "cell_type": "markdown",
   "metadata": {},
   "source": [
    "# Applied Data Capstone project"
   ]
  },
  {
   "cell_type": "markdown",
   "metadata": {},
   "source": [
    "## Table of contents\n",
    "* [Introduction Business Problem](#introduction)\n",
    "* [Data](#data)\n",
    "* [Analysis](#analysis)\n",
    "* [Conclusion](#conclusion)"
   ]
  },
  {
   "cell_type": "markdown",
   "metadata": {},
   "source": [
    "## Introduction\n",
    "\n",
    "Brussels is one of diverse cities in the Europe. There are many internationals people living and working in European institutions. When people are moving to Brussels it they often having a questions where to live in Brussels. Obviously, each person might have specific criteria to choose a place of living in Brussels. Some people, prefer to live closer to work, another might prefer to live close to shopping center or close to restaurants or close to tram station in order to easily commute to work. Basically, it can be interesting to read about neighborhoods of Brussels and have some idea about the neighborhood before moving to Brussels. In this report only one neighborhood of Brussels namely Anderlecht will be analyzed based on Foursquare data. Moreover, k-means clustering will be applied to see which neighborhood are in the same cluster and what is their relationship."
   ]
  },
  {
   "cell_type": "markdown",
   "metadata": {},
   "source": [
    "# Data\n",
    "In order to analyze the neighborhood data of Anderlecht firstly we need to now the neighborhoods of Anderlecht. This part of Brussels have 5 neighborhoods Veeweyde, La Roue, Vogelenzang, Scherdemael and Quartier des Trefles. Initially, geographical location of this neighborhood have been gathered from google maps. Based on geographical location venues for each neighborhood have pulled from foursquare. As a result data table have been built for the neighborhoods. Data \n",
    "includes name of neighborhood, name of venue and geographical location and category of venue."
   ]
  },
  {
   "cell_type": "markdown",
   "metadata": {},
   "source": [
    "## Import required libraries"
   ]
  },
  {
   "cell_type": "code",
   "execution_count": 2,
   "metadata": {},
   "outputs": [
    {
     "name": "stdout",
     "output_type": "stream",
     "text": [
      "Collecting package metadata (current_repodata.json): done\n",
      "Solving environment: done\n",
      "\n",
      "\n",
      "==> WARNING: A newer version of conda exists. <==\n",
      "  current version: 4.8.3\n",
      "  latest version: 4.8.4\n",
      "\n",
      "Please update conda by running\n",
      "\n",
      "    $ conda update -n base -c defaults conda\n",
      "\n",
      "\n",
      "\n",
      "## Package Plan ##\n",
      "\n",
      "  environment location: /home/jupyterlab/conda/envs/python\n",
      "\n",
      "  added / updated specs:\n",
      "    - geopy\n",
      "\n",
      "\n",
      "The following packages will be downloaded:\n",
      "\n",
      "    package                    |            build\n",
      "    ---------------------------|-----------------\n",
      "    geographiclib-1.50         |             py_0          34 KB  conda-forge\n",
      "    geopy-2.0.0                |     pyh9f0ad1d_0          63 KB  conda-forge\n",
      "    openssl-1.1.1g             |       h516909a_1         2.1 MB  conda-forge\n",
      "    ------------------------------------------------------------\n",
      "                                           Total:         2.2 MB\n",
      "\n",
      "The following NEW packages will be INSTALLED:\n",
      "\n",
      "  geographiclib      conda-forge/noarch::geographiclib-1.50-py_0\n",
      "  geopy              conda-forge/noarch::geopy-2.0.0-pyh9f0ad1d_0\n",
      "\n",
      "The following packages will be UPDATED:\n",
      "\n",
      "  openssl                                 1.1.1g-h516909a_0 --> 1.1.1g-h516909a_1\n",
      "\n",
      "\n",
      "\n",
      "Downloading and Extracting Packages\n",
      "openssl-1.1.1g       | 2.1 MB    | ##################################### | 100% \n",
      "geopy-2.0.0          | 63 KB     | ##################################### | 100% \n",
      "geographiclib-1.50   | 34 KB     | ##################################### | 100% \n",
      "Preparing transaction: done\n",
      "Verifying transaction: done\n",
      "Executing transaction: done\n",
      "Collecting package metadata (current_repodata.json): done\n",
      "Solving environment: failed with initial frozen solve. Retrying with flexible solve.\n",
      "Collecting package metadata (repodata.json): done\n",
      "Solving environment: done\n",
      "\n",
      "\n",
      "==> WARNING: A newer version of conda exists. <==\n",
      "  current version: 4.8.3\n",
      "  latest version: 4.8.4\n",
      "\n",
      "Please update conda by running\n",
      "\n",
      "    $ conda update -n base -c defaults conda\n",
      "\n",
      "\n",
      "\n",
      "## Package Plan ##\n",
      "\n",
      "  environment location: /home/jupyterlab/conda/envs/python\n",
      "\n",
      "  added / updated specs:\n",
      "    - folium=0.5.0\n",
      "\n",
      "\n",
      "The following packages will be downloaded:\n",
      "\n",
      "    package                    |            build\n",
      "    ---------------------------|-----------------\n",
      "    altair-4.1.0               |             py_1         614 KB  conda-forge\n",
      "    attrs-20.2.0               |     pyh9f0ad1d_0          41 KB  conda-forge\n",
      "    branca-0.4.1               |             py_0          26 KB  conda-forge\n",
      "    brotlipy-0.7.0             |py36h8c4c3a4_1000         346 KB  conda-forge\n",
      "    chardet-3.0.4              |py36h9f0ad1d_1006         188 KB  conda-forge\n",
      "    cryptography-3.1           |   py36h45558ae_0         615 KB  conda-forge\n",
      "    folium-0.5.0               |             py_0          45 KB  conda-forge\n",
      "    pandas-1.1.1               |   py36h831f99a_0        10.5 MB  conda-forge\n",
      "    pysocks-1.7.1              |   py36h9f0ad1d_1          27 KB  conda-forge\n",
      "    toolz-0.10.0               |             py_0          46 KB  conda-forge\n",
      "    vincent-0.4.4              |             py_1          28 KB  conda-forge\n",
      "    ------------------------------------------------------------\n",
      "                                           Total:        12.5 MB\n",
      "\n",
      "The following NEW packages will be INSTALLED:\n",
      "\n",
      "  altair             conda-forge/noarch::altair-4.1.0-py_1\n",
      "  attrs              conda-forge/noarch::attrs-20.2.0-pyh9f0ad1d_0\n",
      "  branca             conda-forge/noarch::branca-0.4.1-py_0\n",
      "  brotlipy           conda-forge/linux-64::brotlipy-0.7.0-py36h8c4c3a4_1000\n",
      "  chardet            conda-forge/linux-64::chardet-3.0.4-py36h9f0ad1d_1006\n",
      "  cryptography       conda-forge/linux-64::cryptography-3.1-py36h45558ae_0\n",
      "  entrypoints        conda-forge/linux-64::entrypoints-0.3-py36h9f0ad1d_1001\n",
      "  folium             conda-forge/noarch::folium-0.5.0-py_0\n",
      "  idna               conda-forge/noarch::idna-2.10-pyh9f0ad1d_0\n",
      "  importlib_metadata conda-forge/noarch::importlib_metadata-1.7.0-0\n",
      "  jinja2             conda-forge/noarch::jinja2-2.11.2-pyh9f0ad1d_0\n",
      "  jsonschema         conda-forge/linux-64::jsonschema-3.2.0-py36h9f0ad1d_1\n",
      "  markupsafe         conda-forge/linux-64::markupsafe-1.1.1-py36h8c4c3a4_1\n",
      "  pandas             conda-forge/linux-64::pandas-1.1.1-py36h831f99a_0\n",
      "  pyopenssl          conda-forge/noarch::pyopenssl-19.1.0-py_1\n",
      "  pyrsistent         conda-forge/linux-64::pyrsistent-0.16.0-py36h8c4c3a4_0\n",
      "  pysocks            conda-forge/linux-64::pysocks-1.7.1-py36h9f0ad1d_1\n",
      "  pytz               conda-forge/noarch::pytz-2020.1-pyh9f0ad1d_0\n",
      "  requests           conda-forge/noarch::requests-2.24.0-pyh9f0ad1d_0\n",
      "  toolz              conda-forge/noarch::toolz-0.10.0-py_0\n",
      "  urllib3            conda-forge/noarch::urllib3-1.25.10-py_0\n",
      "  vincent            conda-forge/noarch::vincent-0.4.4-py_1\n",
      "\n",
      "\n",
      "\n",
      "Downloading and Extracting Packages\n",
      "pysocks-1.7.1        | 27 KB     | ##################################### | 100% \n",
      "toolz-0.10.0         | 46 KB     | ##################################### | 100% \n",
      "chardet-3.0.4        | 188 KB    | ##################################### | 100% \n",
      "pandas-1.1.1         | 10.5 MB   | ##################################### | 100% \n",
      "folium-0.5.0         | 45 KB     | ##################################### | 100% \n",
      "cryptography-3.1     | 615 KB    | ##################################### | 100% \n",
      "branca-0.4.1         | 26 KB     | ##################################### | 100% \n",
      "brotlipy-0.7.0       | 346 KB    | ##################################### | 100% \n",
      "altair-4.1.0         | 614 KB    | ##################################### | 100% \n",
      "attrs-20.2.0         | 41 KB     | ##################################### | 100% \n",
      "vincent-0.4.4        | 28 KB     | ##################################### | 100% \n",
      "Preparing transaction: done\n",
      "Verifying transaction: done\n",
      "Executing transaction: done\n",
      "Libraries imported.\n"
     ]
    }
   ],
   "source": [
    "import numpy as np # library to handle data in a vectorized manner\n",
    "\n",
    "import pandas as pd # library for data analsysis\n",
    "pd.set_option('display.max_columns', None)\n",
    "pd.set_option('display.max_rows', None)\n",
    "\n",
    "import json # library to handle JSON files\n",
    "\n",
    "!conda install -c conda-forge geopy --yes # uncomment this line if you haven't completed the Foursquare API lab\n",
    "from geopy.geocoders import Nominatim # convert an address into latitude and longitude values\n",
    "\n",
    "import requests # library to handle requests\n",
    "from pandas.io.json import json_normalize # tranform JSON file into a pandas dataframe\n",
    "\n",
    "# Matplotlib and associated plotting modules\n",
    "import matplotlib.cm as cm\n",
    "import matplotlib.colors as colors\n",
    "\n",
    "# import k-means from clustering stage\n",
    "from sklearn.cluster import KMeans\n",
    "\n",
    "!conda install -c conda-forge folium=0.5.0 --yes # uncomment this line if you haven't completed the Foursquare API lab\n",
    "import folium # map rendering library\n",
    "print('Libraries imported.')"
   ]
  },
  {
   "cell_type": "markdown",
   "metadata": {},
   "source": [
    "## Load the neighborhood data of Anderlecht"
   ]
  },
  {
   "cell_type": "code",
   "execution_count": 2,
   "metadata": {},
   "outputs": [
    {
     "data": {
      "text/html": [
       "<div>\n",
       "<style scoped>\n",
       "    .dataframe tbody tr th:only-of-type {\n",
       "        vertical-align: middle;\n",
       "    }\n",
       "\n",
       "    .dataframe tbody tr th {\n",
       "        vertical-align: top;\n",
       "    }\n",
       "\n",
       "    .dataframe thead th {\n",
       "        text-align: right;\n",
       "    }\n",
       "</style>\n",
       "<table border=\"1\" class=\"dataframe\">\n",
       "  <thead>\n",
       "    <tr style=\"text-align: right;\">\n",
       "      <th></th>\n",
       "      <th>Neighborhood</th>\n",
       "      <th>Latitude</th>\n",
       "      <th>Longitude</th>\n",
       "    </tr>\n",
       "  </thead>\n",
       "  <tbody>\n",
       "    <tr>\n",
       "      <th>0</th>\n",
       "      <td>Veeweyde</td>\n",
       "      <td>50.829479</td>\n",
       "      <td>4.300651</td>\n",
       "    </tr>\n",
       "    <tr>\n",
       "      <th>1</th>\n",
       "      <td>La Roue</td>\n",
       "      <td>50.821117</td>\n",
       "      <td>4.293915</td>\n",
       "    </tr>\n",
       "    <tr>\n",
       "      <th>2</th>\n",
       "      <td>Vogelenzang</td>\n",
       "      <td>50.816111</td>\n",
       "      <td>4.276944</td>\n",
       "    </tr>\n",
       "    <tr>\n",
       "      <th>3</th>\n",
       "      <td>Scherdemael</td>\n",
       "      <td>50.831078</td>\n",
       "      <td>4.289412</td>\n",
       "    </tr>\n",
       "    <tr>\n",
       "      <th>4</th>\n",
       "      <td>Quartier des Trefles</td>\n",
       "      <td>50.824371</td>\n",
       "      <td>4.288487</td>\n",
       "    </tr>\n",
       "  </tbody>\n",
       "</table>\n",
       "</div>"
      ],
      "text/plain": [
       "           Neighborhood   Latitude  Longitude\n",
       "0              Veeweyde  50.829479   4.300651\n",
       "1               La Roue  50.821117   4.293915\n",
       "2           Vogelenzang  50.816111   4.276944\n",
       "3           Scherdemael  50.831078   4.289412\n",
       "4  Quartier des Trefles  50.824371   4.288487"
      ]
     },
     "execution_count": 2,
     "metadata": {},
     "output_type": "execute_result"
    }
   ],
   "source": [
    "data = {'Neighborhood':  ['Veeweyde', 'La Roue', 'Vogelenzang', 'Scherdemael','Quartier des Trefles' ],\n",
    "        'Latitude': ['50.8294786','50.8211173','50.816111','50.8310778', '50.824371'],\n",
    "        'Longitude':['4.3006508','4.2939154','4.276944', '4.2894119','4.288487']\n",
    "        }\n",
    "\n",
    "Anderlecht_data = pd.DataFrame(data, columns = ['Neighborhood','Latitude','Longitude'],dtype=float)\n",
    "Anderlecht_data\n",
    "Anderlecht_data.dtypes\n",
    "Anderlecht_data['Neighborhood'].astype(str)\n",
    "Anderlecht_data\n",
    "\n"
   ]
  },
  {
   "cell_type": "code",
   "execution_count": 3,
   "metadata": {},
   "outputs": [],
   "source": [
    "#import pandas as pd\n",
    "#data = pd.read_excel (r'/resources/labs/DP0701EN/Anderlecht_neigboorhood.xlsx') \n",
    "#df = pd.DataFrame(data, columns= ['Neighborhood','Latitude', 'Longitude'])\n",
    "#df"
   ]
  },
  {
   "cell_type": "markdown",
   "metadata": {},
   "source": [
    "<a id='item1'></a>"
   ]
  },
  {
   "cell_type": "markdown",
   "metadata": {},
   "source": [
    "## Explore Dataset"
   ]
  },
  {
   "cell_type": "markdown",
   "metadata": {},
   "source": [
    "Let's get the geographical coordinates of Anderelecht."
   ]
  },
  {
   "cell_type": "code",
   "execution_count": 4,
   "metadata": {
    "collapsed": false,
    "jupyter": {
     "outputs_hidden": false
    }
   },
   "outputs": [
    {
     "name": "stdout",
     "output_type": "stream",
     "text": [
      "The geograpical coordinate of Anderlecht are 50.8390983, 4.3296526.\n"
     ]
    }
   ],
   "source": [
    "address = 'Anderlecht'\n",
    "\n",
    "geolocator = Nominatim(user_agent=\"ny_explorer\")\n",
    "location = geolocator.geocode(address)\n",
    "latitude = location.latitude\n",
    "longitude = location.longitude\n",
    "print('The geograpical coordinate of Anderlecht are {}, {}.'.format(latitude, longitude))"
   ]
  },
  {
   "cell_type": "code",
   "execution_count": 5,
   "metadata": {
    "collapsed": false,
    "jupyter": {
     "outputs_hidden": false
    }
   },
   "outputs": [
    {
     "data": {
      "text/html": [
       "<div style=\"width:100%;\"><div style=\"position:relative;width:100%;height:0;padding-bottom:60%;\"><span style=\"color:#565656\">Make this Notebook Trusted to load map: File -> Trust Notebook</span><iframe src=\"about:blank\" style=\"position:absolute;width:100%;height:100%;left:0;top:0;border:none !important;\" data-html=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 onload=\"this.contentDocument.open();this.contentDocument.write(atob(this.getAttribute('data-html')));this.contentDocument.close();\" allowfullscreen webkitallowfullscreen mozallowfullscreen></iframe></div></div>"
      ],
      "text/plain": [
       "<folium.folium.Map at 0x7fe402e28b00>"
      ]
     },
     "execution_count": 5,
     "metadata": {},
     "output_type": "execute_result"
    }
   ],
   "source": [
    "\n",
    "# create map of Anderlecht using latitude and longitude values\n",
    "map_Anderlecht = folium.Map(location=[latitude, longitude], zoom_start=11)\n",
    "\n",
    "# add markers to map\n",
    "for lat, lng, label in zip(Anderlecht_data['Latitude'], Anderlecht_data['Longitude'], Anderlecht_data['Neighborhood']):\n",
    "    label = folium.Popup(label, parse_html=True)\n",
    "    folium.CircleMarker(\n",
    "        [lat, lng],\n",
    "        popup=label,\n",
    "        color='blue',\n",
    "        fill=True,\n",
    "        fill_color='#3186cc',\n",
    "        fill_opacity=0.7,\n",
    "        parse_html=False).add_to(map_Anderlecht)  \n",
    "    \n",
    "map_Anderlecht"
   ]
  },
  {
   "cell_type": "markdown",
   "metadata": {},
   "source": [
    "Next, we are going to start utilizing the Foursquare API to explore the neighborhoods and segment them."
   ]
  },
  {
   "cell_type": "markdown",
   "metadata": {},
   "source": [
    "#### Define Foursquare Credentials and Version"
   ]
  },
  {
   "cell_type": "code",
   "execution_count": 6,
   "metadata": {
    "collapsed": false,
    "jupyter": {
     "outputs_hidden": false
    }
   },
   "outputs": [
    {
     "name": "stdout",
     "output_type": "stream",
     "text": [
      "Your credentails:\n",
      "CLIENT_ID: UMV1JBHPGAO5GWW2X1BEIACWSJ0HZEF0Q0TBJCF322RKLYJW\n",
      "CLIENT_SECRET:4AJDQVOE1IG3LWSTQJLSLW54SRXVFMDUDPFAZBWDNURWUA2W\n"
     ]
    }
   ],
   "source": [
    "CLIENT_ID = 'UMV1JBHPGAO5GWW2X1BEIACWSJ0HZEF0Q0TBJCF322RKLYJW' # your Foursquare ID\n",
    "CLIENT_SECRET = '4AJDQVOE1IG3LWSTQJLSLW54SRXVFMDUDPFAZBWDNURWUA2W' # your Foursquare Secret\n",
    "VERSION = '20180605' # Foursquare API version\n",
    "\n",
    "print('Your credentails:')\n",
    "print('CLIENT_ID: ' + CLIENT_ID)\n",
    "print('CLIENT_SECRET:' + CLIENT_SECRET)"
   ]
  },
  {
   "cell_type": "markdown",
   "metadata": {},
   "source": [
    "#### Let's explore the first neighborhood in our dataframe."
   ]
  },
  {
   "cell_type": "markdown",
   "metadata": {},
   "source": [
    "Get the neighborhood's latitude and longitude values."
   ]
  },
  {
   "cell_type": "code",
   "execution_count": 7,
   "metadata": {
    "collapsed": false,
    "jupyter": {
     "outputs_hidden": false
    }
   },
   "outputs": [
    {
     "name": "stdout",
     "output_type": "stream",
     "text": [
      "Latitude and longitude values of Veeweyde are 50.8294786, 4.3006508.\n"
     ]
    }
   ],
   "source": [
    "neighborhood_latitude = Anderlecht_data.loc[0, 'Latitude'] # neighborhood latitude value\n",
    "neighborhood_longitude = Anderlecht_data.loc[0, 'Longitude'] # neighborhood longitude value\n",
    "\n",
    "neighborhood_name = Anderlecht_data.loc[0, 'Neighborhood'] # neighborhood name\n",
    "\n",
    "print('Latitude and longitude values of {} are {}, {}.'.format(neighborhood_name, \n",
    "                                                               neighborhood_latitude, \n",
    "                                                               neighborhood_longitude))"
   ]
  },
  {
   "cell_type": "markdown",
   "metadata": {},
   "source": [
    "#### Now, let's get the top 100 venues that are in Veeweyde within a radius of 500 meters."
   ]
  },
  {
   "cell_type": "markdown",
   "metadata": {},
   "source": [
    "First, let's create the GET request URL. Name your URL **url**."
   ]
  },
  {
   "cell_type": "code",
   "execution_count": 8,
   "metadata": {
    "collapsed": false,
    "jupyter": {
     "outputs_hidden": false
    },
    "scrolled": true
   },
   "outputs": [
    {
     "data": {
      "text/plain": [
       "'https://api.foursquare.com/v2/venues/explore?&client_id=UMV1JBHPGAO5GWW2X1BEIACWSJ0HZEF0Q0TBJCF322RKLYJW&client_secret=4AJDQVOE1IG3LWSTQJLSLW54SRXVFMDUDPFAZBWDNURWUA2W&v=20180605&ll=50.8294786,4.3006508&radius=500&limit=100'"
      ]
     },
     "execution_count": 8,
     "metadata": {},
     "output_type": "execute_result"
    }
   ],
   "source": [
    "# type your answer here\n",
    "\n",
    "LIMIT = 100 # limit of number of venues returned by Foursquare API\n",
    "radius = 500 # define radius\n",
    "url = 'https://api.foursquare.com/v2/venues/explore?&client_id={}&client_secret={}&v={}&ll={},{}&radius={}&limit={}'.format(\n",
    "    CLIENT_ID, \n",
    "    CLIENT_SECRET, \n",
    "    VERSION, \n",
    "    neighborhood_latitude, \n",
    "    neighborhood_longitude, \n",
    "    radius, \n",
    "    LIMIT)\n",
    "url # display URL"
   ]
  },
  {
   "cell_type": "markdown",
   "metadata": {},
   "source": [
    "Send the GET request and examine the resutls"
   ]
  },
  {
   "cell_type": "code",
   "execution_count": 9,
   "metadata": {
    "collapsed": false,
    "jupyter": {
     "outputs_hidden": false
    }
   },
   "outputs": [
    {
     "data": {
      "text/plain": [
       "{'meta': {'code': 200, 'requestId': '5f576849fa0ba4415188afd8'},\n",
       " 'response': {'suggestedFilters': {'header': 'Tap to show:',\n",
       "   'filters': [{'name': 'Open now', 'key': 'openNow'}]},\n",
       "  'headerLocation': 'Anderlecht',\n",
       "  'headerFullLocation': 'Anderlecht, Brussels',\n",
       "  'headerLocationGranularity': 'neighborhood',\n",
       "  'totalResults': 23,\n",
       "  'suggestedBounds': {'ne': {'lat': 50.833978604500004,\n",
       "    'lng': 4.307761923350391},\n",
       "   'sw': {'lat': 50.8249785955, 'lng': 4.293539676649608}},\n",
       "  'groups': [{'type': 'Recommended Places',\n",
       "    'name': 'recommended',\n",
       "    'items': [{'reasons': {'count': 0,\n",
       "       'items': [{'summary': 'This spot is popular',\n",
       "         'type': 'general',\n",
       "         'reasonName': 'globalInteractionReason'}]},\n",
       "      'venue': {'id': '4e78cdb07d8b90e4423fb041',\n",
       "       'name': 'Colruyt',\n",
       "       'location': {'address': 'Rue Félix De Cuyperstraat 42',\n",
       "        'lat': 50.82731999522965,\n",
       "        'lng': 4.302584397470871,\n",
       "        'labeledLatLngs': [{'label': 'display',\n",
       "          'lat': 50.82731999522965,\n",
       "          'lng': 4.302584397470871}],\n",
       "        'distance': 276,\n",
       "        'cc': 'BE',\n",
       "        'city': 'Anderlecht',\n",
       "        'state': 'Brussels Hoofdstedelijk Gewest',\n",
       "        'country': 'België',\n",
       "        'formattedAddress': ['Rue Félix De Cuyperstraat 42',\n",
       "         'Anderlecht',\n",
       "         'België']},\n",
       "       'categories': [{'id': '52f2ab2ebcbc57f1066b8b46',\n",
       "         'name': 'Supermarket',\n",
       "         'pluralName': 'Supermarkets',\n",
       "         'shortName': 'Supermarket',\n",
       "         'icon': {'prefix': 'https://ss3.4sqi.net/img/categories_v2/shops/food_grocery_',\n",
       "          'suffix': '.png'},\n",
       "         'primary': True}],\n",
       "       'photos': {'count': 0, 'groups': []}},\n",
       "      'referralId': 'e-0-4e78cdb07d8b90e4423fb041-0'},\n",
       "     {'reasons': {'count': 0,\n",
       "       'items': [{'summary': 'This spot is popular',\n",
       "         'type': 'general',\n",
       "         'reasonName': 'globalInteractionReason'}]},\n",
       "      'venue': {'id': '4f3cf080e4b030292aeeed90',\n",
       "       'name': 'André Destiné',\n",
       "       'location': {'lat': 50.828040905960975,\n",
       "        'lng': 4.305458596091795,\n",
       "        'labeledLatLngs': [{'label': 'display',\n",
       "          'lat': 50.828040905960975,\n",
       "          'lng': 4.305458596091795}],\n",
       "        'distance': 374,\n",
       "        'cc': 'BE',\n",
       "        'country': 'België',\n",
       "        'formattedAddress': ['België']},\n",
       "       'categories': [{'id': '4bf58dd8d48988d1c5941735',\n",
       "         'name': 'Sandwich Place',\n",
       "         'pluralName': 'Sandwich Places',\n",
       "         'shortName': 'Sandwiches',\n",
       "         'icon': {'prefix': 'https://ss3.4sqi.net/img/categories_v2/food/deli_',\n",
       "          'suffix': '.png'},\n",
       "         'primary': True}],\n",
       "       'photos': {'count': 0, 'groups': []}},\n",
       "      'referralId': 'e-0-4f3cf080e4b030292aeeed90-1'},\n",
       "     {'reasons': {'count': 0,\n",
       "       'items': [{'summary': 'This spot is popular',\n",
       "         'type': 'general',\n",
       "         'reasonName': 'globalInteractionReason'}]},\n",
       "      'venue': {'id': '4e53711981dc6e249dd9915e',\n",
       "       'name': 'Saint-Guidon',\n",
       "       'location': {'address': 'Avenue Theo Verbeecklaan 2',\n",
       "        'lat': 50.83337046934798,\n",
       "        'lng': 4.298188806480056,\n",
       "        'labeledLatLngs': [{'label': 'display',\n",
       "          'lat': 50.83337046934798,\n",
       "          'lng': 4.298188806480056}],\n",
       "        'distance': 466,\n",
       "        'postalCode': '1070',\n",
       "        'cc': 'BE',\n",
       "        'city': 'Anderlecht',\n",
       "        'state': 'Brussels Hoofdstedelijk Gewest',\n",
       "        'country': 'België',\n",
       "        'formattedAddress': ['Avenue Theo Verbeecklaan 2',\n",
       "         '1070 Anderlecht',\n",
       "         'België']},\n",
       "       'categories': [{'id': '4bf58dd8d48988d10c941735',\n",
       "         'name': 'French Restaurant',\n",
       "         'pluralName': 'French Restaurants',\n",
       "         'shortName': 'French',\n",
       "         'icon': {'prefix': 'https://ss3.4sqi.net/img/categories_v2/food/french_',\n",
       "          'suffix': '.png'},\n",
       "         'primary': True}],\n",
       "       'photos': {'count': 0, 'groups': []}},\n",
       "      'referralId': 'e-0-4e53711981dc6e249dd9915e-2'},\n",
       "     {'reasons': {'count': 0,\n",
       "       'items': [{'summary': 'This spot is popular',\n",
       "         'type': 'general',\n",
       "         'reasonName': 'globalInteractionReason'}]},\n",
       "      'venue': {'id': '4d69f7952acd6ea8502641c0',\n",
       "       'name': 'Parc Astrid / Astridpark (Astridpark)',\n",
       "       'location': {'address': 'Koning-Soldaatlaan',\n",
       "        'crossStreet': 'Avenue du Roi-Soldat',\n",
       "        'lat': 50.832870985840806,\n",
       "        'lng': 4.29814338684082,\n",
       "        'labeledLatLngs': [{'label': 'display',\n",
       "          'lat': 50.832870985840806,\n",
       "          'lng': 4.29814338684082}],\n",
       "        'distance': 416,\n",
       "        'postalCode': '1070',\n",
       "        'cc': 'BE',\n",
       "        'city': 'Anderlecht',\n",
       "        'state': 'Brussels Hoofdstedelijk Gewest',\n",
       "        'country': 'België',\n",
       "        'formattedAddress': ['Koning-Soldaatlaan (Avenue du Roi-Soldat)',\n",
       "         '1070 Anderlecht',\n",
       "         'België']},\n",
       "       'categories': [{'id': '4bf58dd8d48988d163941735',\n",
       "         'name': 'Park',\n",
       "         'pluralName': 'Parks',\n",
       "         'shortName': 'Park',\n",
       "         'icon': {'prefix': 'https://ss3.4sqi.net/img/categories_v2/parks_outdoors/park_',\n",
       "          'suffix': '.png'},\n",
       "         'primary': True}],\n",
       "       'photos': {'count': 0, 'groups': []}},\n",
       "      'referralId': 'e-0-4d69f7952acd6ea8502641c0-3'},\n",
       "     {'reasons': {'count': 0,\n",
       "       'items': [{'summary': 'This spot is popular',\n",
       "         'type': 'general',\n",
       "         'reasonName': 'globalInteractionReason'}]},\n",
       "      'venue': {'id': '575ef2e9498e19229bfc0e2e',\n",
       "       'name': 'Basic-Fit',\n",
       "       'location': {'address': 'Avenue Van Kalken 2',\n",
       "        'lat': 50.82852940150966,\n",
       "        'lng': 4.3050612009898614,\n",
       "        'labeledLatLngs': [{'label': 'display',\n",
       "          'lat': 50.82852940150966,\n",
       "          'lng': 4.3050612009898614}],\n",
       "        'distance': 327,\n",
       "        'postalCode': '1070',\n",
       "        'cc': 'BE',\n",
       "        'city': 'Brussel',\n",
       "        'state': 'Brussels Hoofdstedelijk Gewest',\n",
       "        'country': 'België',\n",
       "        'formattedAddress': ['Avenue Van Kalken 2', '1070 Brussel', 'België']},\n",
       "       'categories': [{'id': '4bf58dd8d48988d175941735',\n",
       "         'name': 'Gym / Fitness Center',\n",
       "         'pluralName': 'Gyms or Fitness Centers',\n",
       "         'shortName': 'Gym / Fitness',\n",
       "         'icon': {'prefix': 'https://ss3.4sqi.net/img/categories_v2/building/gym_',\n",
       "          'suffix': '.png'},\n",
       "         'primary': True}],\n",
       "       'photos': {'count': 0, 'groups': []}},\n",
       "      'referralId': 'e-0-575ef2e9498e19229bfc0e2e-4'},\n",
       "     {'reasons': {'count': 0,\n",
       "       'items': [{'summary': 'This spot is popular',\n",
       "         'type': 'general',\n",
       "         'reasonName': 'globalInteractionReason'}]},\n",
       "      'venue': {'id': '4d76109274eca093ac5ab6a8',\n",
       "       'name': 'Pizza Hut',\n",
       "       'location': {'address': 'Anderlecht',\n",
       "        'lat': 50.828686946924364,\n",
       "        'lng': 4.304514343761599,\n",
       "        'labeledLatLngs': [{'label': 'display',\n",
       "          'lat': 50.828686946924364,\n",
       "          'lng': 4.304514343761599}],\n",
       "        'distance': 285,\n",
       "        'cc': 'BE',\n",
       "        'country': 'België',\n",
       "        'formattedAddress': ['Anderlecht', 'België']},\n",
       "       'categories': [{'id': '4bf58dd8d48988d1ca941735',\n",
       "         'name': 'Pizza Place',\n",
       "         'pluralName': 'Pizza Places',\n",
       "         'shortName': 'Pizza',\n",
       "         'icon': {'prefix': 'https://ss3.4sqi.net/img/categories_v2/food/pizza_',\n",
       "          'suffix': '.png'},\n",
       "         'primary': True}],\n",
       "       'photos': {'count': 0, 'groups': []}},\n",
       "      'referralId': 'e-0-4d76109274eca093ac5ab6a8-5'},\n",
       "     {'reasons': {'count': 0,\n",
       "       'items': [{'summary': 'This spot is popular',\n",
       "         'type': 'general',\n",
       "         'reasonName': 'globalInteractionReason'}]},\n",
       "      'venue': {'id': '4d6e3133619a236a1e2d6f8f',\n",
       "       'name': 'Delhaize',\n",
       "       'location': {'address': 'Bergensesteenweg 718 Chaussée de Mons',\n",
       "        'lat': 50.82884052855933,\n",
       "        'lng': 4.305498438222962,\n",
       "        'labeledLatLngs': [{'label': 'display',\n",
       "          'lat': 50.82884052855933,\n",
       "          'lng': 4.305498438222962}],\n",
       "        'distance': 348,\n",
       "        'postalCode': '1070',\n",
       "        'cc': 'BE',\n",
       "        'city': 'Anderlecht',\n",
       "        'state': 'Brussels Hoofdstedelijk Gewest',\n",
       "        'country': 'België',\n",
       "        'formattedAddress': ['Bergensesteenweg 718 Chaussée de Mons',\n",
       "         '1070 Anderlecht',\n",
       "         'België']},\n",
       "       'categories': [{'id': '52f2ab2ebcbc57f1066b8b46',\n",
       "         'name': 'Supermarket',\n",
       "         'pluralName': 'Supermarkets',\n",
       "         'shortName': 'Supermarket',\n",
       "         'icon': {'prefix': 'https://ss3.4sqi.net/img/categories_v2/shops/food_grocery_',\n",
       "          'suffix': '.png'},\n",
       "         'primary': True}],\n",
       "       'photos': {'count': 0, 'groups': []}},\n",
       "      'referralId': 'e-0-4d6e3133619a236a1e2d6f8f-6'},\n",
       "     {'reasons': {'count': 0,\n",
       "       'items': [{'summary': 'This spot is popular',\n",
       "         'type': 'general',\n",
       "         'reasonName': 'globalInteractionReason'}]},\n",
       "      'venue': {'id': '54e628cf498e5c9e4a894de3',\n",
       "       'name': 'Nam Shan',\n",
       "       'location': {'lat': 50.829133839122484,\n",
       "        'lng': 4.302709744058501,\n",
       "        'labeledLatLngs': [{'label': 'display',\n",
       "          'lat': 50.829133839122484,\n",
       "          'lng': 4.302709744058501}],\n",
       "        'distance': 149,\n",
       "        'cc': 'BE',\n",
       "        'country': 'België',\n",
       "        'formattedAddress': ['België']},\n",
       "       'categories': [{'id': '4bf58dd8d48988d145941735',\n",
       "         'name': 'Chinese Restaurant',\n",
       "         'pluralName': 'Chinese Restaurants',\n",
       "         'shortName': 'Chinese',\n",
       "         'icon': {'prefix': 'https://ss3.4sqi.net/img/categories_v2/food/asian_',\n",
       "          'suffix': '.png'},\n",
       "         'primary': True}],\n",
       "       'photos': {'count': 0, 'groups': []}},\n",
       "      'referralId': 'e-0-54e628cf498e5c9e4a894de3-7'},\n",
       "     {'reasons': {'count': 0,\n",
       "       'items': [{'summary': 'This spot is popular',\n",
       "         'type': 'general',\n",
       "         'reasonName': 'globalInteractionReason'}]},\n",
       "      'venue': {'id': '4ba26e0cf964a5203df837e3',\n",
       "       'name': 'Veeweide / Veeweyde (MIVB / STIB / De Lijn) (Veeweide (MIVB))',\n",
       "       'location': {'address': 'Avenue Gounodlaan',\n",
       "        'crossStreet': 'Avenue Theo Lambertlaan',\n",
       "        'lat': 50.829736522050275,\n",
       "        'lng': 4.300711824058878,\n",
       "        'labeledLatLngs': [{'label': 'display',\n",
       "          'lat': 50.829736522050275,\n",
       "          'lng': 4.300711824058878}],\n",
       "        'distance': 29,\n",
       "        'postalCode': '1070',\n",
       "        'cc': 'BE',\n",
       "        'neighborhood': 'Anderlecht',\n",
       "        'city': 'Anderlecht',\n",
       "        'state': 'Brussels Hoofdstedelijk Gewest',\n",
       "        'country': 'België',\n",
       "        'formattedAddress': ['Avenue Gounodlaan (Avenue Theo Lambertlaan)',\n",
       "         '1070 Anderlecht',\n",
       "         'België']},\n",
       "       'categories': [{'id': '4bf58dd8d48988d1fd931735',\n",
       "         'name': 'Metro Station',\n",
       "         'pluralName': 'Metro Stations',\n",
       "         'shortName': 'Metro',\n",
       "         'icon': {'prefix': 'https://ss3.4sqi.net/img/categories_v2/travel/subway_',\n",
       "          'suffix': '.png'},\n",
       "         'primary': True}],\n",
       "       'photos': {'count': 0, 'groups': []}},\n",
       "      'referralId': 'e-0-4ba26e0cf964a5203df837e3-8'},\n",
       "     {'reasons': {'count': 0,\n",
       "       'items': [{'summary': 'This spot is popular',\n",
       "         'type': 'general',\n",
       "         'reasonName': 'globalInteractionReason'}]},\n",
       "      'venue': {'id': '53208671498e26c70df9647b',\n",
       "       'name': 'Parc de Busselenbergpark (Busselenbergpark)',\n",
       "       'location': {'address': 'Rue Busselenbergstraat',\n",
       "        'lat': 50.82995206796674,\n",
       "        'lng': 4.302144324458213,\n",
       "        'labeledLatLngs': [{'label': 'display',\n",
       "          'lat': 50.82995206796674,\n",
       "          'lng': 4.302144324458213}],\n",
       "        'distance': 117,\n",
       "        'postalCode': '1070',\n",
       "        'cc': 'BE',\n",
       "        'city': 'Anderlecht',\n",
       "        'state': 'Brussels Hoofdstedelijk Gewest',\n",
       "        'country': 'België',\n",
       "        'formattedAddress': ['Rue Busselenbergstraat',\n",
       "         '1070 Anderlecht',\n",
       "         'België']},\n",
       "       'categories': [{'id': '4bf58dd8d48988d163941735',\n",
       "         'name': 'Park',\n",
       "         'pluralName': 'Parks',\n",
       "         'shortName': 'Park',\n",
       "         'icon': {'prefix': 'https://ss3.4sqi.net/img/categories_v2/parks_outdoors/park_',\n",
       "          'suffix': '.png'},\n",
       "         'primary': True}],\n",
       "       'photos': {'count': 0, 'groups': []}},\n",
       "      'referralId': 'e-0-53208671498e26c70df9647b-9'},\n",
       "     {'reasons': {'count': 0,\n",
       "       'items': [{'summary': 'This spot is popular',\n",
       "         'type': 'general',\n",
       "         'reasonName': 'globalInteractionReason'}]},\n",
       "      'venue': {'id': '4d86522b9324236a781de10e',\n",
       "       'name': 'Legends Café',\n",
       "       'location': {'address': 'Avenue Theo Verbeecklaan 2',\n",
       "        'lat': 50.83358032539719,\n",
       "        'lng': 4.2990802299242254,\n",
       "        'labeledLatLngs': [{'label': 'display',\n",
       "          'lat': 50.83358032539719,\n",
       "          'lng': 4.2990802299242254}],\n",
       "        'distance': 469,\n",
       "        'postalCode': '1070',\n",
       "        'cc': 'BE',\n",
       "        'city': 'Anderlecht',\n",
       "        'state': 'Brussels Hoofdstedelijk Gewest',\n",
       "        'country': 'België',\n",
       "        'formattedAddress': ['Avenue Theo Verbeecklaan 2',\n",
       "         '1070 Anderlecht',\n",
       "         'België']},\n",
       "       'categories': [{'id': '4bf58dd8d48988d116941735',\n",
       "         'name': 'Bar',\n",
       "         'pluralName': 'Bars',\n",
       "         'shortName': 'Bar',\n",
       "         'icon': {'prefix': 'https://ss3.4sqi.net/img/categories_v2/nightlife/pub_',\n",
       "          'suffix': '.png'},\n",
       "         'primary': True}],\n",
       "       'photos': {'count': 0, 'groups': []}},\n",
       "      'referralId': 'e-0-4d86522b9324236a781de10e-10'},\n",
       "     {'reasons': {'count': 0,\n",
       "       'items': [{'summary': 'This spot is popular',\n",
       "         'type': 'general',\n",
       "         'reasonName': 'globalInteractionReason'}]},\n",
       "      'venue': {'id': '50b35e02e4b0036cfbf3a7d2',\n",
       "       'name': 'Lounge Time Resto',\n",
       "       'location': {'address': 'Avenue Du Roi Soldat 55',\n",
       "        'crossStreet': 'Parc Astrid',\n",
       "        'lat': 50.831171869277775,\n",
       "        'lng': 4.2982669449986535,\n",
       "        'labeledLatLngs': [{'label': 'display',\n",
       "          'lat': 50.831171869277775,\n",
       "          'lng': 4.2982669449986535}],\n",
       "        'distance': 252,\n",
       "        'postalCode': '1070',\n",
       "        'cc': 'BE',\n",
       "        'city': 'Anderlecht',\n",
       "        'state': 'Brussels Hoofdstedelijk Gewest',\n",
       "        'country': 'België',\n",
       "        'formattedAddress': ['Avenue Du Roi Soldat 55 (Parc Astrid)',\n",
       "         '1070 Anderlecht',\n",
       "         'België']},\n",
       "       'categories': [{'id': '52e81612bcbc57f1066b79f1',\n",
       "         'name': 'Bistro',\n",
       "         'pluralName': 'Bistros',\n",
       "         'shortName': 'Bistro',\n",
       "         'icon': {'prefix': 'https://ss3.4sqi.net/img/categories_v2/food/default_',\n",
       "          'suffix': '.png'},\n",
       "         'primary': True}],\n",
       "       'photos': {'count': 0, 'groups': []}},\n",
       "      'referralId': 'e-0-50b35e02e4b0036cfbf3a7d2-11'},\n",
       "     {'reasons': {'count': 0,\n",
       "       'items': [{'summary': 'This spot is popular',\n",
       "         'type': 'general',\n",
       "         'reasonName': 'globalInteractionReason'}]},\n",
       "      'venue': {'id': '4e3439ef814defaf4f00c964',\n",
       "       'name': 'Ysaye (MIVB / STIB) (Ysaye (MIVB))',\n",
       "       'location': {'address': 'Avenue Ysayelaan',\n",
       "        'lat': 50.83032771749889,\n",
       "        'lng': 4.296895686064732,\n",
       "        'labeledLatLngs': [{'label': 'display',\n",
       "          'lat': 50.83032771749889,\n",
       "          'lng': 4.296895686064732}],\n",
       "        'distance': 280,\n",
       "        'postalCode': '1070',\n",
       "        'cc': 'BE',\n",
       "        'city': 'Anderlecht',\n",
       "        'state': 'Brussels Hoofdstedelijk Gewest',\n",
       "        'country': 'België',\n",
       "        'formattedAddress': ['Avenue Ysayelaan', '1070 Anderlecht', 'België']},\n",
       "       'categories': [{'id': '52f2ab2ebcbc57f1066b8b51',\n",
       "         'name': 'Tram Station',\n",
       "         'pluralName': 'Tram Stations',\n",
       "         'shortName': 'Tram',\n",
       "         'icon': {'prefix': 'https://ss3.4sqi.net/img/categories_v2/travel/trainstation_',\n",
       "          'suffix': '.png'},\n",
       "         'primary': True}],\n",
       "       'photos': {'count': 0, 'groups': []}},\n",
       "      'referralId': 'e-0-4e3439ef814defaf4f00c964-12'},\n",
       "     {'reasons': {'count': 0,\n",
       "       'items': [{'summary': 'This spot is popular',\n",
       "         'type': 'general',\n",
       "         'reasonName': 'globalInteractionReason'}]},\n",
       "      'venue': {'id': '51420040e4b0640909252cce',\n",
       "       'name': 'Halte Aristide Briand',\n",
       "       'location': {'lat': 50.82897919362757,\n",
       "        'lng': 4.304627248635422,\n",
       "        'labeledLatLngs': [{'label': 'display',\n",
       "          'lat': 50.82897919362757,\n",
       "          'lng': 4.304627248635422}],\n",
       "        'distance': 285,\n",
       "        'cc': 'BE',\n",
       "        'country': 'België',\n",
       "        'formattedAddress': ['België']},\n",
       "       'categories': [{'id': '52f2ab2ebcbc57f1066b8b4f',\n",
       "         'name': 'Bus Stop',\n",
       "         'pluralName': 'Bus Stops',\n",
       "         'shortName': 'Bus Stop',\n",
       "         'icon': {'prefix': 'https://ss3.4sqi.net/img/categories_v2/travel/busstation_',\n",
       "          'suffix': '.png'},\n",
       "         'primary': True}],\n",
       "       'photos': {'count': 0, 'groups': []}},\n",
       "      'referralId': 'e-0-51420040e4b0640909252cce-13'},\n",
       "     {'reasons': {'count': 0,\n",
       "       'items': [{'summary': 'This spot is popular',\n",
       "         'type': 'general',\n",
       "         'reasonName': 'globalInteractionReason'}]},\n",
       "      'venue': {'id': '4f6a2335e4b0fcb71bb31534',\n",
       "       'name': 'Rond Point du Meir',\n",
       "       'location': {'lat': 50.83227898781284,\n",
       "        'lng': 4.302022271793507,\n",
       "        'labeledLatLngs': [{'label': 'display',\n",
       "          'lat': 50.83227898781284,\n",
       "          'lng': 4.302022271793507}],\n",
       "        'distance': 326,\n",
       "        'cc': 'BE',\n",
       "        'country': 'België',\n",
       "        'formattedAddress': ['België']},\n",
       "       'categories': [{'id': '4bf58dd8d48988d164941735',\n",
       "         'name': 'Plaza',\n",
       "         'pluralName': 'Plazas',\n",
       "         'shortName': 'Plaza',\n",
       "         'icon': {'prefix': 'https://ss3.4sqi.net/img/categories_v2/parks_outdoors/plaza_',\n",
       "          'suffix': '.png'},\n",
       "         'primary': True}],\n",
       "       'photos': {'count': 0, 'groups': []}},\n",
       "      'referralId': 'e-0-4f6a2335e4b0fcb71bb31534-14'},\n",
       "     {'reasons': {'count': 0,\n",
       "       'items': [{'summary': 'This spot is popular',\n",
       "         'type': 'general',\n",
       "         'reasonName': 'globalInteractionReason'}]},\n",
       "      'venue': {'id': '50547653e4b0ff6b619fb6ce',\n",
       "       'name': 'The Neptunes',\n",
       "       'location': {'lat': 50.827510937775074,\n",
       "        'lng': 4.296581440374425,\n",
       "        'labeledLatLngs': [{'label': 'display',\n",
       "          'lat': 50.827510937775074,\n",
       "          'lng': 4.296581440374425}],\n",
       "        'distance': 360,\n",
       "        'cc': 'BE',\n",
       "        'country': 'België',\n",
       "        'formattedAddress': ['België']},\n",
       "       'categories': [{'id': '4cce455aebf7b749d5e191f5',\n",
       "         'name': 'Soccer Field',\n",
       "         'pluralName': 'Soccer Fields',\n",
       "         'shortName': 'Soccer Field',\n",
       "         'icon': {'prefix': 'https://ss3.4sqi.net/img/categories_v2/arts_entertainment/stadium_soccer_',\n",
       "          'suffix': '.png'},\n",
       "         'primary': True}],\n",
       "       'photos': {'count': 0, 'groups': []}},\n",
       "      'referralId': 'e-0-50547653e4b0ff6b619fb6ce-15'},\n",
       "     {'reasons': {'count': 0,\n",
       "       'items': [{'summary': 'This spot is popular',\n",
       "         'type': 'general',\n",
       "         'reasonName': 'globalInteractionReason'}]},\n",
       "      'venue': {'id': '4e3439b8814defaf4f00c942',\n",
       "       'name': 'Meir (MIVB / STIB) (Meir (MIVB))',\n",
       "       'location': {'address': 'Place Meirplein',\n",
       "        'lat': 50.83242783877061,\n",
       "        'lng': 4.302871912874584,\n",
       "        'labeledLatLngs': [{'label': 'display',\n",
       "          'lat': 50.83242783877061,\n",
       "          'lng': 4.302871912874584}],\n",
       "        'distance': 363,\n",
       "        'postalCode': '1070',\n",
       "        'cc': 'BE',\n",
       "        'city': 'Anderlecht',\n",
       "        'state': 'Brussels Hoofdstedelijk Gewest',\n",
       "        'country': 'België',\n",
       "        'formattedAddress': ['Place Meirplein', '1070 Anderlecht', 'België']},\n",
       "       'categories': [{'id': '52f2ab2ebcbc57f1066b8b51',\n",
       "         'name': 'Tram Station',\n",
       "         'pluralName': 'Tram Stations',\n",
       "         'shortName': 'Tram',\n",
       "         'icon': {'prefix': 'https://ss3.4sqi.net/img/categories_v2/travel/trainstation_',\n",
       "          'suffix': '.png'},\n",
       "         'primary': True}],\n",
       "       'photos': {'count': 0, 'groups': []}},\n",
       "      'referralId': 'e-0-4e3439b8814defaf4f00c942-16'},\n",
       "     {'reasons': {'count': 0,\n",
       "       'items': [{'summary': 'This spot is popular',\n",
       "         'type': 'general',\n",
       "         'reasonName': 'globalInteractionReason'}]},\n",
       "      'venue': {'id': '4c84fc3fd92ea093e86e6172',\n",
       "       'name': '[PIAS] (PIAS)',\n",
       "       'location': {'address': 'Rue de Veeweydestraat 100',\n",
       "        'lat': 50.83055971568345,\n",
       "        'lng': 4.305603178081853,\n",
       "        'labeledLatLngs': [{'label': 'display',\n",
       "          'lat': 50.83055971568345,\n",
       "          'lng': 4.305603178081853}],\n",
       "        'distance': 368,\n",
       "        'postalCode': '1070',\n",
       "        'cc': 'BE',\n",
       "        'city': 'Anderlecht',\n",
       "        'state': 'Brussels Hoofdstedelijk Gewest',\n",
       "        'country': 'België',\n",
       "        'formattedAddress': ['Rue de Veeweydestraat 100',\n",
       "         '1070 Anderlecht',\n",
       "         'België']},\n",
       "       'categories': [{'id': '5454152e498ef71e2b9132c6',\n",
       "         'name': 'Event Service',\n",
       "         'pluralName': 'Event Services',\n",
       "         'shortName': 'Event Services',\n",
       "         'icon': {'prefix': 'https://ss3.4sqi.net/img/categories_v2/event/default_',\n",
       "          'suffix': '.png'},\n",
       "         'primary': True}],\n",
       "       'photos': {'count': 0, 'groups': []}},\n",
       "      'referralId': 'e-0-4c84fc3fd92ea093e86e6172-17'},\n",
       "     {'reasons': {'count': 0,\n",
       "       'items': [{'summary': 'This spot is popular',\n",
       "         'type': 'general',\n",
       "         'reasonName': 'globalInteractionReason'}]},\n",
       "      'venue': {'id': '50e99d0be4b044bde92cfe99',\n",
       "       'name': 'Planet Meubles',\n",
       "       'location': {'lat': 50.826237324535185,\n",
       "        'lng': 4.299565961395283,\n",
       "        'labeledLatLngs': [{'label': 'display',\n",
       "          'lat': 50.826237324535185,\n",
       "          'lng': 4.299565961395283}],\n",
       "        'distance': 368,\n",
       "        'cc': 'BE',\n",
       "        'country': 'België',\n",
       "        'formattedAddress': ['België']},\n",
       "       'categories': [{'id': '4bf58dd8d48988d1f8941735',\n",
       "         'name': 'Furniture / Home Store',\n",
       "         'pluralName': 'Furniture / Home Stores',\n",
       "         'shortName': 'Furniture / Home',\n",
       "         'icon': {'prefix': 'https://ss3.4sqi.net/img/categories_v2/shops/furniture_',\n",
       "          'suffix': '.png'},\n",
       "         'primary': True}],\n",
       "       'photos': {'count': 0, 'groups': []}},\n",
       "      'referralId': 'e-0-50e99d0be4b044bde92cfe99-18'},\n",
       "     {'reasons': {'count': 0,\n",
       "       'items': [{'summary': 'This spot is popular',\n",
       "         'type': 'general',\n",
       "         'reasonName': 'globalInteractionReason'}]},\n",
       "      'venue': {'id': '4ced74808212548163255fa1',\n",
       "       'name': 'Zita Kyoteï',\n",
       "       'location': {'address': 'Rue Henri Deleersstraat 36',\n",
       "        'lat': 50.82602930981563,\n",
       "        'lng': 4.300175731597088,\n",
       "        'labeledLatLngs': [{'label': 'display',\n",
       "          'lat': 50.82602930981563,\n",
       "          'lng': 4.300175731597088}],\n",
       "        'distance': 385,\n",
       "        'postalCode': '1070',\n",
       "        'cc': 'BE',\n",
       "        'city': 'Anderlecht',\n",
       "        'state': 'Brussels Hoofdstedelijk Gewest',\n",
       "        'country': 'België',\n",
       "        'formattedAddress': ['Rue Henri Deleersstraat 36',\n",
       "         '1070 Anderlecht',\n",
       "         'België']},\n",
       "       'categories': [{'id': '4bf58dd8d48988d101941735',\n",
       "         'name': 'Martial Arts School',\n",
       "         'pluralName': 'Martial Arts Schools',\n",
       "         'shortName': 'Martial Arts',\n",
       "         'icon': {'prefix': 'https://ss3.4sqi.net/img/categories_v2/shops/gym_martialarts_',\n",
       "          'suffix': '.png'},\n",
       "         'primary': True}],\n",
       "       'photos': {'count': 0, 'groups': []}},\n",
       "      'referralId': 'e-0-4ced74808212548163255fa1-19'},\n",
       "     {'reasons': {'count': 0,\n",
       "       'items': [{'summary': 'This spot is popular',\n",
       "         'type': 'general',\n",
       "         'reasonName': 'globalInteractionReason'}]},\n",
       "      'venue': {'id': '5378a556498ec1ca19d30867',\n",
       "       'name': 'luso',\n",
       "       'location': {'address': 'Rue Henri Deleers, 4',\n",
       "        'lat': 50.82583969910099,\n",
       "        'lng': 4.298580443406145,\n",
       "        'labeledLatLngs': [{'label': 'display',\n",
       "          'lat': 50.82583969910099,\n",
       "          'lng': 4.298580443406145}],\n",
       "        'distance': 430,\n",
       "        'postalCode': '1070',\n",
       "        'cc': 'BE',\n",
       "        'city': 'Anderlecht',\n",
       "        'state': 'Brussels Hoofdstedelijk Gewest',\n",
       "        'country': 'België',\n",
       "        'formattedAddress': ['Rue Henri Deleers, 4',\n",
       "         '1070 Anderlecht',\n",
       "         'België']},\n",
       "       'categories': [{'id': '4def73e84765ae376e57713a',\n",
       "         'name': 'Portuguese Restaurant',\n",
       "         'pluralName': 'Portuguese Restaurants',\n",
       "         'shortName': 'Portuguese',\n",
       "         'icon': {'prefix': 'https://ss3.4sqi.net/img/categories_v2/food/portuguese_',\n",
       "          'suffix': '.png'},\n",
       "         'primary': True}],\n",
       "       'photos': {'count': 0, 'groups': []}},\n",
       "      'referralId': 'e-0-5378a556498ec1ca19d30867-20'},\n",
       "     {'reasons': {'count': 0,\n",
       "       'items': [{'summary': 'This spot is popular',\n",
       "         'type': 'general',\n",
       "         'reasonName': 'globalInteractionReason'}]},\n",
       "      'venue': {'id': '4d024cef18ff8cfaf803c457',\n",
       "       'name': 'Le Farfadet',\n",
       "       'location': {'address': 'Rue Claude Debussystraat 95',\n",
       "        'lat': 50.82632945430878,\n",
       "        'lng': 4.296580178416422,\n",
       "        'labeledLatLngs': [{'label': 'display',\n",
       "          'lat': 50.82632945430878,\n",
       "          'lng': 4.296580178416422}],\n",
       "        'distance': 452,\n",
       "        'postalCode': '1070',\n",
       "        'cc': 'BE',\n",
       "        'city': 'Anderlecht',\n",
       "        'state': 'Brussels Hoofdstedelijk Gewest',\n",
       "        'country': 'België',\n",
       "        'formattedAddress': ['Rue Claude Debussystraat 95',\n",
       "         '1070 Anderlecht',\n",
       "         'België']},\n",
       "       'categories': [{'id': '4bf58dd8d48988d11b941735',\n",
       "         'name': 'Pub',\n",
       "         'pluralName': 'Pubs',\n",
       "         'shortName': 'Pub',\n",
       "         'icon': {'prefix': 'https://ss3.4sqi.net/img/categories_v2/nightlife/pub_',\n",
       "          'suffix': '.png'},\n",
       "         'primary': True}],\n",
       "       'photos': {'count': 0, 'groups': []}},\n",
       "      'referralId': 'e-0-4d024cef18ff8cfaf803c457-21'},\n",
       "     {'reasons': {'count': 0,\n",
       "       'items': [{'summary': 'This spot is popular',\n",
       "         'type': 'general',\n",
       "         'reasonName': 'globalInteractionReason'}]},\n",
       "      'venue': {'id': '51795a24e4b0329b013799c6',\n",
       "       'name': 'Anderlecht Minigolf',\n",
       "       'location': {'address': 'Rue Claude Debussy',\n",
       "        'lat': 50.82869000411081,\n",
       "        'lng': 4.293684129151672,\n",
       "        'labeledLatLngs': [{'label': 'display',\n",
       "          'lat': 50.82869000411081,\n",
       "          'lng': 4.293684129151672}],\n",
       "        'distance': 497,\n",
       "        'postalCode': '1070',\n",
       "        'cc': 'BE',\n",
       "        'city': 'Anderlecht',\n",
       "        'state': 'Brussels Hoofdstedelijk Gewest',\n",
       "        'country': 'België',\n",
       "        'formattedAddress': ['Rue Claude Debussy',\n",
       "         '1070 Anderlecht',\n",
       "         'België']},\n",
       "       'categories': [{'id': '52e81612bcbc57f1066b79eb',\n",
       "         'name': 'Mini Golf',\n",
       "         'pluralName': 'Mini Golf Courses',\n",
       "         'shortName': 'Mini Golf',\n",
       "         'icon': {'prefix': 'https://ss3.4sqi.net/img/categories_v2/parks_outdoors/golfcourse_',\n",
       "          'suffix': '.png'},\n",
       "         'primary': True}],\n",
       "       'photos': {'count': 0, 'groups': []}},\n",
       "      'referralId': 'e-0-51795a24e4b0329b013799c6-22'}]}]}}"
      ]
     },
     "execution_count": 9,
     "metadata": {},
     "output_type": "execute_result"
    }
   ],
   "source": [
    "results = requests.get(url).json()\n",
    "results"
   ]
  },
  {
   "cell_type": "markdown",
   "metadata": {},
   "source": [
    "From the Foursquare lab in the previous module, we know that all the information is in the *items* key. Before we proceed, let's borrow the **get_category_type** function from the Foursquare lab."
   ]
  },
  {
   "cell_type": "code",
   "execution_count": 10,
   "metadata": {},
   "outputs": [],
   "source": [
    "# function that extracts the category of the venue\n",
    "def get_category_type(row):\n",
    "    try:\n",
    "        categories_list = row['categories']\n",
    "    except:\n",
    "        categories_list = row['venue.categories']\n",
    "        \n",
    "    if len(categories_list) == 0:\n",
    "        return None\n",
    "    else:\n",
    "        return categories_list[0]['name']"
   ]
  },
  {
   "cell_type": "markdown",
   "metadata": {},
   "source": [
    "Now we are ready to clean the json and structure it into a *pandas* dataframe."
   ]
  },
  {
   "cell_type": "code",
   "execution_count": 11,
   "metadata": {
    "collapsed": false,
    "jupyter": {
     "outputs_hidden": false
    }
   },
   "outputs": [
    {
     "name": "stderr",
     "output_type": "stream",
     "text": [
      "/home/jupyterlab/conda/envs/python/lib/python3.6/site-packages/ipykernel_launcher.py:3: FutureWarning: pandas.io.json.json_normalize is deprecated, use pandas.json_normalize instead\n",
      "  This is separate from the ipykernel package so we can avoid doing imports until\n"
     ]
    },
    {
     "data": {
      "text/html": [
       "<div>\n",
       "<style scoped>\n",
       "    .dataframe tbody tr th:only-of-type {\n",
       "        vertical-align: middle;\n",
       "    }\n",
       "\n",
       "    .dataframe tbody tr th {\n",
       "        vertical-align: top;\n",
       "    }\n",
       "\n",
       "    .dataframe thead th {\n",
       "        text-align: right;\n",
       "    }\n",
       "</style>\n",
       "<table border=\"1\" class=\"dataframe\">\n",
       "  <thead>\n",
       "    <tr style=\"text-align: right;\">\n",
       "      <th></th>\n",
       "      <th>name</th>\n",
       "      <th>categories</th>\n",
       "      <th>lat</th>\n",
       "      <th>lng</th>\n",
       "    </tr>\n",
       "  </thead>\n",
       "  <tbody>\n",
       "    <tr>\n",
       "      <th>0</th>\n",
       "      <td>Colruyt</td>\n",
       "      <td>Supermarket</td>\n",
       "      <td>50.827320</td>\n",
       "      <td>4.302584</td>\n",
       "    </tr>\n",
       "    <tr>\n",
       "      <th>1</th>\n",
       "      <td>André Destiné</td>\n",
       "      <td>Sandwich Place</td>\n",
       "      <td>50.828041</td>\n",
       "      <td>4.305459</td>\n",
       "    </tr>\n",
       "    <tr>\n",
       "      <th>2</th>\n",
       "      <td>Saint-Guidon</td>\n",
       "      <td>French Restaurant</td>\n",
       "      <td>50.833370</td>\n",
       "      <td>4.298189</td>\n",
       "    </tr>\n",
       "    <tr>\n",
       "      <th>3</th>\n",
       "      <td>Parc Astrid / Astridpark (Astridpark)</td>\n",
       "      <td>Park</td>\n",
       "      <td>50.832871</td>\n",
       "      <td>4.298143</td>\n",
       "    </tr>\n",
       "    <tr>\n",
       "      <th>4</th>\n",
       "      <td>Basic-Fit</td>\n",
       "      <td>Gym / Fitness Center</td>\n",
       "      <td>50.828529</td>\n",
       "      <td>4.305061</td>\n",
       "    </tr>\n",
       "  </tbody>\n",
       "</table>\n",
       "</div>"
      ],
      "text/plain": [
       "                                    name            categories        lat  \\\n",
       "0                                Colruyt           Supermarket  50.827320   \n",
       "1                          André Destiné        Sandwich Place  50.828041   \n",
       "2                           Saint-Guidon     French Restaurant  50.833370   \n",
       "3  Parc Astrid / Astridpark (Astridpark)                  Park  50.832871   \n",
       "4                              Basic-Fit  Gym / Fitness Center  50.828529   \n",
       "\n",
       "        lng  \n",
       "0  4.302584  \n",
       "1  4.305459  \n",
       "2  4.298189  \n",
       "3  4.298143  \n",
       "4  4.305061  "
      ]
     },
     "execution_count": 11,
     "metadata": {},
     "output_type": "execute_result"
    }
   ],
   "source": [
    "venues = results['response']['groups'][0]['items']\n",
    "    \n",
    "nearby_venues = json_normalize(venues) # flatten JSON\n",
    "\n",
    "# filter columns\n",
    "filtered_columns = ['venue.name', 'venue.categories', 'venue.location.lat', 'venue.location.lng']\n",
    "nearby_venues =nearby_venues.loc[:, filtered_columns]\n",
    "\n",
    "# filter the category for each row\n",
    "nearby_venues['venue.categories'] = nearby_venues.apply(get_category_type, axis=1)\n",
    "\n",
    "# clean columns\n",
    "nearby_venues.columns = [col.split(\".\")[-1] for col in nearby_venues.columns]\n",
    "\n",
    "nearby_venues.head()"
   ]
  },
  {
   "cell_type": "markdown",
   "metadata": {},
   "source": [
    "And how many venues were returned by Foursquare?"
   ]
  },
  {
   "cell_type": "code",
   "execution_count": 12,
   "metadata": {
    "collapsed": false,
    "jupyter": {
     "outputs_hidden": false
    }
   },
   "outputs": [
    {
     "name": "stdout",
     "output_type": "stream",
     "text": [
      "23 venues were returned by Foursquare.\n"
     ]
    }
   ],
   "source": [
    "print('{} venues were returned by Foursquare.'.format(nearby_venues.shape[0]))"
   ]
  },
  {
   "cell_type": "markdown",
   "metadata": {},
   "source": [
    "<a id='item2'></a>"
   ]
  },
  {
   "cell_type": "markdown",
   "metadata": {},
   "source": [
    "## 2. Explore Neighborhoods in Anderlecht"
   ]
  },
  {
   "cell_type": "markdown",
   "metadata": {},
   "source": [
    "#### Let's create a function to repeat the same process to all the neighborhoods in Anderlecht"
   ]
  },
  {
   "cell_type": "code",
   "execution_count": 13,
   "metadata": {},
   "outputs": [],
   "source": [
    "def getNearbyVenues(names, latitudes, longitudes, radius=500):\n",
    "    \n",
    "    venues_list=[]\n",
    "    for name, lat, lng in zip(names, latitudes, longitudes):\n",
    "        print(name)\n",
    "            \n",
    "        # create the API request URL\n",
    "        url = 'https://api.foursquare.com/v2/venues/explore?&client_id={}&client_secret={}&v={}&ll={},{}&radius={}&limit={}'.format(\n",
    "            CLIENT_ID, \n",
    "            CLIENT_SECRET, \n",
    "            VERSION, \n",
    "            lat, \n",
    "            lng, \n",
    "            radius, \n",
    "            LIMIT)\n",
    "            \n",
    "        # make the GET request\n",
    "        results = requests.get(url).json()[\"response\"]['groups'][0]['items']\n",
    "        \n",
    "        # return only relevant information for each nearby venue\n",
    "        venues_list.append([(\n",
    "            name, \n",
    "            lat, \n",
    "            lng, \n",
    "            v['venue']['name'], \n",
    "            v['venue']['location']['lat'], \n",
    "            v['venue']['location']['lng'],  \n",
    "            v['venue']['categories'][0]['name']) for v in results])\n",
    "\n",
    "    nearby_venues = pd.DataFrame([item for venue_list in venues_list for item in venue_list])\n",
    "    nearby_venues.columns = ['Neighborhood', \n",
    "                  'Neighborhood Latitude', \n",
    "                  'Neighborhood Longitude', \n",
    "                  'Venue', \n",
    "                  'Venue Latitude', \n",
    "                  'Venue Longitude', \n",
    "                  'Venue Category']\n",
    "    \n",
    "    return(nearby_venues)"
   ]
  },
  {
   "cell_type": "markdown",
   "metadata": {},
   "source": [
    "#### Now write the code to run the above function on each neighborhood and create a new dataframe called *Anderlecht_venues*."
   ]
  },
  {
   "cell_type": "code",
   "execution_count": 14,
   "metadata": {
    "collapsed": false,
    "jupyter": {
     "outputs_hidden": false
    },
    "scrolled": true
   },
   "outputs": [
    {
     "name": "stdout",
     "output_type": "stream",
     "text": [
      "Veeweyde\n",
      "La Roue\n",
      "Vogelenzang\n",
      "Scherdemael\n",
      "Quartier des Trefles\n"
     ]
    }
   ],
   "source": [
    "# type your answer here\n",
    "\n",
    "Anderlecht_venues = getNearbyVenues(names=Anderlecht_data['Neighborhood'],\n",
    "                                   latitudes=Anderlecht_data['Latitude'],\n",
    "                                   longitudes=Anderlecht_data['Longitude']\n",
    "                                  )\n",
    "\n"
   ]
  },
  {
   "cell_type": "markdown",
   "metadata": {},
   "source": [
    "#### Let's check the size of the resulting dataframe"
   ]
  },
  {
   "cell_type": "code",
   "execution_count": 15,
   "metadata": {
    "collapsed": false,
    "jupyter": {
     "outputs_hidden": false
    }
   },
   "outputs": [
    {
     "name": "stdout",
     "output_type": "stream",
     "text": [
      "(81, 7)\n"
     ]
    },
    {
     "data": {
      "text/html": [
       "<div>\n",
       "<style scoped>\n",
       "    .dataframe tbody tr th:only-of-type {\n",
       "        vertical-align: middle;\n",
       "    }\n",
       "\n",
       "    .dataframe tbody tr th {\n",
       "        vertical-align: top;\n",
       "    }\n",
       "\n",
       "    .dataframe thead th {\n",
       "        text-align: right;\n",
       "    }\n",
       "</style>\n",
       "<table border=\"1\" class=\"dataframe\">\n",
       "  <thead>\n",
       "    <tr style=\"text-align: right;\">\n",
       "      <th></th>\n",
       "      <th>Neighborhood</th>\n",
       "      <th>Neighborhood Latitude</th>\n",
       "      <th>Neighborhood Longitude</th>\n",
       "      <th>Venue</th>\n",
       "      <th>Venue Latitude</th>\n",
       "      <th>Venue Longitude</th>\n",
       "      <th>Venue Category</th>\n",
       "    </tr>\n",
       "  </thead>\n",
       "  <tbody>\n",
       "    <tr>\n",
       "      <th>0</th>\n",
       "      <td>Veeweyde</td>\n",
       "      <td>50.829479</td>\n",
       "      <td>4.300651</td>\n",
       "      <td>Colruyt</td>\n",
       "      <td>50.827320</td>\n",
       "      <td>4.302584</td>\n",
       "      <td>Supermarket</td>\n",
       "    </tr>\n",
       "    <tr>\n",
       "      <th>1</th>\n",
       "      <td>Veeweyde</td>\n",
       "      <td>50.829479</td>\n",
       "      <td>4.300651</td>\n",
       "      <td>André Destiné</td>\n",
       "      <td>50.828041</td>\n",
       "      <td>4.305459</td>\n",
       "      <td>Sandwich Place</td>\n",
       "    </tr>\n",
       "    <tr>\n",
       "      <th>2</th>\n",
       "      <td>Veeweyde</td>\n",
       "      <td>50.829479</td>\n",
       "      <td>4.300651</td>\n",
       "      <td>Saint-Guidon</td>\n",
       "      <td>50.833370</td>\n",
       "      <td>4.298189</td>\n",
       "      <td>French Restaurant</td>\n",
       "    </tr>\n",
       "    <tr>\n",
       "      <th>3</th>\n",
       "      <td>Veeweyde</td>\n",
       "      <td>50.829479</td>\n",
       "      <td>4.300651</td>\n",
       "      <td>Parc Astrid / Astridpark (Astridpark)</td>\n",
       "      <td>50.832871</td>\n",
       "      <td>4.298143</td>\n",
       "      <td>Park</td>\n",
       "    </tr>\n",
       "    <tr>\n",
       "      <th>4</th>\n",
       "      <td>Veeweyde</td>\n",
       "      <td>50.829479</td>\n",
       "      <td>4.300651</td>\n",
       "      <td>Basic-Fit</td>\n",
       "      <td>50.828529</td>\n",
       "      <td>4.305061</td>\n",
       "      <td>Gym / Fitness Center</td>\n",
       "    </tr>\n",
       "  </tbody>\n",
       "</table>\n",
       "</div>"
      ],
      "text/plain": [
       "  Neighborhood  Neighborhood Latitude  Neighborhood Longitude  \\\n",
       "0     Veeweyde              50.829479                4.300651   \n",
       "1     Veeweyde              50.829479                4.300651   \n",
       "2     Veeweyde              50.829479                4.300651   \n",
       "3     Veeweyde              50.829479                4.300651   \n",
       "4     Veeweyde              50.829479                4.300651   \n",
       "\n",
       "                                   Venue  Venue Latitude  Venue Longitude  \\\n",
       "0                                Colruyt       50.827320         4.302584   \n",
       "1                          André Destiné       50.828041         4.305459   \n",
       "2                           Saint-Guidon       50.833370         4.298189   \n",
       "3  Parc Astrid / Astridpark (Astridpark)       50.832871         4.298143   \n",
       "4                              Basic-Fit       50.828529         4.305061   \n",
       "\n",
       "         Venue Category  \n",
       "0           Supermarket  \n",
       "1        Sandwich Place  \n",
       "2     French Restaurant  \n",
       "3                  Park  \n",
       "4  Gym / Fitness Center  "
      ]
     },
     "execution_count": 15,
     "metadata": {},
     "output_type": "execute_result"
    }
   ],
   "source": [
    "print(Anderlecht_venues.shape)\n",
    "Anderlecht_venues.head()"
   ]
  },
  {
   "cell_type": "markdown",
   "metadata": {},
   "source": [
    "Let's check how many venues were returned for each neighborhood"
   ]
  },
  {
   "cell_type": "code",
   "execution_count": 57,
   "metadata": {
    "collapsed": false,
    "jupyter": {
     "outputs_hidden": false
    }
   },
   "outputs": [
    {
     "data": {
      "text/plain": [
       "Text(0.5, 1.0, 'Count of venues per neighborhood')"
      ]
     },
     "execution_count": 57,
     "metadata": {},
     "output_type": "execute_result"
    },
    {
     "data": {
      "image/png": "[encoded data removed]",
      "text/plain": [
       "<Figure size 432x288 with 1 Axes>"
      ]
     },
     "metadata": {
      "needs_background": "light"
     },
     "output_type": "display_data"
    }
   ],
   "source": [
    "import matplotlib.pyplot as plt\n",
    "Anderlecht_venues.groupby('Neighborhood').count()\n",
    "df=Anderlecht_venues.groupby('Neighborhood').count()\n",
    "df2=df['Venue']\n",
    "df2.plot(kind='bar')\n",
    "plt.ylabel('Number of venues')\n",
    "plt.title('Count of venues per neighborhood')"
   ]
  },
  {
   "cell_type": "markdown",
   "metadata": {},
   "source": [
    "#### Let's find out how many unique categories can be curated from all the returned venues"
   ]
  },
  {
   "cell_type": "code",
   "execution_count": 17,
   "metadata": {
    "collapsed": false,
    "jupyter": {
     "outputs_hidden": false
    }
   },
   "outputs": [
    {
     "name": "stdout",
     "output_type": "stream",
     "text": [
      "There are 47 uniques categories.\n"
     ]
    }
   ],
   "source": [
    "print('There are {} uniques categories.'.format(len(Anderlecht_venues['Venue Category'].unique())))"
   ]
  },
  {
   "cell_type": "markdown",
   "metadata": {},
   "source": [
    "<a id='item3'></a>"
   ]
  },
  {
   "cell_type": "markdown",
   "metadata": {},
   "source": [
    "## 3. Analyze Each Neighborhood"
   ]
  },
  {
   "cell_type": "code",
   "execution_count": 67,
   "metadata": {
    "collapsed": false,
    "jupyter": {
     "outputs_hidden": false
    }
   },
   "outputs": [
    {
     "data": {
      "text/plain": [
       "Text(0.5, 0, 'Venue')"
      ]
     },
     "execution_count": 67,
     "metadata": {},
     "output_type": "execute_result"
    },
    {
     "data": {
      "image/png": "[encoded data removed]",
      "text/plain": [
       "<Figure size 432x288 with 1 Axes>"
      ]
     },
     "metadata": {
      "needs_background": "light"
     },
     "output_type": "display_data"
    }
   ],
   "source": [
    "# one hot encoding\n",
    "Anderlecht_onehot = pd.get_dummies(Anderlecht_venues[['Venue Category']], prefix=\"\", prefix_sep=\"\")\n",
    "\n",
    "# add neighborhood column back to dataframe\n",
    "Anderlecht_onehot['Neighborhood'] = Anderlecht_venues['Neighborhood'] \n",
    "\n",
    "# move neighborhood column to the first column\n",
    "fixed_columns = [Anderlecht_onehot.columns[-1]] + list(Anderlecht_onehot.columns[:-1])\n",
    "Anderlecht_onehot = Anderlecht_onehot[fixed_columns]\n",
    "\n",
    "Anderlecht_onehot.head()\n",
    "Anderlecht_onehot.plot(kind='hist')\n",
    "plt.legend(title='Legend', bbox_to_anchor=(1.05, 1), loc='upper left')\n",
    "plt.xlabel('Venue')"
   ]
  },
  {
   "cell_type": "markdown",
   "metadata": {},
   "source": [
    "And let's examine the new dataframe size."
   ]
  },
  {
   "cell_type": "code",
   "execution_count": 19,
   "metadata": {
    "collapsed": false,
    "jupyter": {
     "outputs_hidden": false
    }
   },
   "outputs": [
    {
     "data": {
      "text/plain": [
       "(81, 48)"
      ]
     },
     "execution_count": 19,
     "metadata": {},
     "output_type": "execute_result"
    }
   ],
   "source": [
    "Anderlecht_onehot.shape"
   ]
  },
  {
   "cell_type": "markdown",
   "metadata": {},
   "source": [
    "#### Next, let's group rows by neighborhood and by taking the mean of the frequency of occurrence of each category"
   ]
  },
  {
   "cell_type": "code",
   "execution_count": 68,
   "metadata": {
    "collapsed": false,
    "jupyter": {
     "outputs_hidden": false
    }
   },
   "outputs": [
    {
     "data": {
      "text/plain": [
       "Text(0.5, 0, 'Venue')"
      ]
     },
     "execution_count": 68,
     "metadata": {},
     "output_type": "execute_result"
    },
    {
     "data": {
      "image/png": "[encoded data removed]",
      "text/plain": [
       "<Figure size 720x432 with 1 Axes>"
      ]
     },
     "metadata": {
      "needs_background": "light"
     },
     "output_type": "display_data"
    }
   ],
   "source": [
    "Anderlecht_grouped = Anderlecht_onehot.groupby('Neighborhood').mean().reset_index()\n",
    "Anderlecht_grouped.plot(kind='bar', figsize=(10,6))\n",
    "plt.legend(title='Legend', bbox_to_anchor=(1.05, 1), loc='upper left')\n",
    "plt.xlabel('Venue')"
   ]
  },
  {
   "cell_type": "markdown",
   "metadata": {},
   "source": [
    "#### Let's confirm the new size"
   ]
  },
  {
   "cell_type": "code",
   "execution_count": 69,
   "metadata": {
    "collapsed": false,
    "jupyter": {
     "outputs_hidden": false
    }
   },
   "outputs": [
    {
     "data": {
      "text/plain": [
       "(5, 48)"
      ]
     },
     "execution_count": 69,
     "metadata": {},
     "output_type": "execute_result"
    }
   ],
   "source": [
    "Anderlecht_grouped.shape"
   ]
  },
  {
   "cell_type": "markdown",
   "metadata": {},
   "source": [
    "#### Let's print each neighborhood along with the top 5 most common venues"
   ]
  },
  {
   "cell_type": "code",
   "execution_count": 70,
   "metadata": {
    "collapsed": false,
    "jupyter": {
     "outputs_hidden": false
    }
   },
   "outputs": [
    {
     "name": "stdout",
     "output_type": "stream",
     "text": [
      "----La Roue----\n",
      "               venue  freq\n",
      "0        Pizza Place  0.17\n",
      "1     Sandwich Place  0.17\n",
      "2  Convenience Store  0.17\n",
      "\n",
      "\n",
      "----Quartier des Trefles----\n",
      "         venue  freq\n",
      "0         Park  0.33\n",
      "1  Supermarket  0.11\n",
      "2  Sports Club  0.11\n",
      "\n",
      "\n",
      "----Scherdemael----\n",
      "          venue  freq\n",
      "0  Tram Station  0.12\n",
      "1   Supermarket  0.12\n",
      "2          Park  0.12\n",
      "\n",
      "\n",
      "----Veeweyde----\n",
      "          venue  freq\n",
      "0  Tram Station  0.09\n",
      "1   Supermarket  0.09\n",
      "2          Park  0.09\n",
      "\n",
      "\n",
      "----Vogelenzang----\n",
      "            venue  freq\n",
      "0      Restaurant  0.07\n",
      "1        Pharmacy  0.07\n",
      "2  Clothing Store  0.07\n",
      "\n",
      "\n"
     ]
    }
   ],
   "source": [
    "num_top_venues = 3\n",
    "\n",
    "for hood in Anderlecht_grouped['Neighborhood']:\n",
    "    print(\"----\"+hood+\"----\")\n",
    "    temp = Anderlecht_grouped[Anderlecht_grouped['Neighborhood'] == hood].T.reset_index()\n",
    "    temp.columns = ['venue','freq']\n",
    "    temp = temp.iloc[1:]\n",
    "    temp['freq'] = temp['freq'].astype(float)\n",
    "    temp = temp.round({'freq': 2})\n",
    "    print(temp.sort_values('freq', ascending=False).reset_index(drop=True).head(num_top_venues))\n",
    "    print('\\n')"
   ]
  },
  {
   "cell_type": "markdown",
   "metadata": {},
   "source": [
    "#### Let's put that into a *pandas* dataframe"
   ]
  },
  {
   "cell_type": "markdown",
   "metadata": {},
   "source": [
    "First, let's write a function to sort the venues in descending order."
   ]
  },
  {
   "cell_type": "code",
   "execution_count": 71,
   "metadata": {},
   "outputs": [],
   "source": [
    "def return_most_common_venues(row, num_top_venues):\n",
    "    row_categories = row.iloc[1:]\n",
    "    row_categories_sorted = row_categories.sort_values(ascending=False)\n",
    "    \n",
    "    return row_categories_sorted.index.values[0:num_top_venues]"
   ]
  },
  {
   "cell_type": "markdown",
   "metadata": {},
   "source": [
    "Now let's create the new dataframe and display the top 10 venues for each neighborhood."
   ]
  },
  {
   "cell_type": "code",
   "execution_count": 72,
   "metadata": {
    "collapsed": false,
    "jupyter": {
     "outputs_hidden": false
    }
   },
   "outputs": [
    {
     "data": {
      "text/html": [
       "<div>\n",
       "<style scoped>\n",
       "    .dataframe tbody tr th:only-of-type {\n",
       "        vertical-align: middle;\n",
       "    }\n",
       "\n",
       "    .dataframe tbody tr th {\n",
       "        vertical-align: top;\n",
       "    }\n",
       "\n",
       "    .dataframe thead th {\n",
       "        text-align: right;\n",
       "    }\n",
       "</style>\n",
       "<table border=\"1\" class=\"dataframe\">\n",
       "  <thead>\n",
       "    <tr style=\"text-align: right;\">\n",
       "      <th></th>\n",
       "      <th>Neighborhood</th>\n",
       "      <th>1st Most Common Venue</th>\n",
       "      <th>2nd Most Common Venue</th>\n",
       "      <th>3rd Most Common Venue</th>\n",
       "      <th>4th Most Common Venue</th>\n",
       "      <th>5th Most Common Venue</th>\n",
       "    </tr>\n",
       "  </thead>\n",
       "  <tbody>\n",
       "    <tr>\n",
       "      <th>0</th>\n",
       "      <td>La Roue</td>\n",
       "      <td>Pizza Place</td>\n",
       "      <td>Convenience Store</td>\n",
       "      <td>Food</td>\n",
       "      <td>Sandwich Place</td>\n",
       "      <td>Restaurant</td>\n",
       "    </tr>\n",
       "    <tr>\n",
       "      <th>1</th>\n",
       "      <td>Quartier des Trefles</td>\n",
       "      <td>Park</td>\n",
       "      <td>Gastropub</td>\n",
       "      <td>Supermarket</td>\n",
       "      <td>Sports Club</td>\n",
       "      <td>Gym</td>\n",
       "    </tr>\n",
       "    <tr>\n",
       "      <th>2</th>\n",
       "      <td>Scherdemael</td>\n",
       "      <td>Supermarket</td>\n",
       "      <td>Tram Station</td>\n",
       "      <td>Park</td>\n",
       "      <td>Pet Store</td>\n",
       "      <td>Bakery</td>\n",
       "    </tr>\n",
       "    <tr>\n",
       "      <th>3</th>\n",
       "      <td>Veeweyde</td>\n",
       "      <td>Park</td>\n",
       "      <td>Tram Station</td>\n",
       "      <td>Supermarket</td>\n",
       "      <td>Martial Arts School</td>\n",
       "      <td>Metro Station</td>\n",
       "    </tr>\n",
       "    <tr>\n",
       "      <th>4</th>\n",
       "      <td>Vogelenzang</td>\n",
       "      <td>Pharmacy</td>\n",
       "      <td>Clothing Store</td>\n",
       "      <td>Restaurant</td>\n",
       "      <td>Women's Store</td>\n",
       "      <td>Electronics Store</td>\n",
       "    </tr>\n",
       "  </tbody>\n",
       "</table>\n",
       "</div>"
      ],
      "text/plain": [
       "           Neighborhood 1st Most Common Venue 2nd Most Common Venue  \\\n",
       "0               La Roue           Pizza Place     Convenience Store   \n",
       "1  Quartier des Trefles                  Park             Gastropub   \n",
       "2           Scherdemael           Supermarket          Tram Station   \n",
       "3              Veeweyde                  Park          Tram Station   \n",
       "4           Vogelenzang              Pharmacy        Clothing Store   \n",
       "\n",
       "  3rd Most Common Venue 4th Most Common Venue 5th Most Common Venue  \n",
       "0                  Food        Sandwich Place            Restaurant  \n",
       "1           Supermarket           Sports Club                   Gym  \n",
       "2                  Park             Pet Store                Bakery  \n",
       "3           Supermarket   Martial Arts School         Metro Station  \n",
       "4            Restaurant         Women's Store     Electronics Store  "
      ]
     },
     "execution_count": 72,
     "metadata": {},
     "output_type": "execute_result"
    }
   ],
   "source": [
    "num_top_venues = 5\n",
    "\n",
    "indicators = ['st', 'nd', 'rd']\n",
    "\n",
    "# create columns according to number of top venues\n",
    "columns = ['Neighborhood']\n",
    "for ind in np.arange(num_top_venues):\n",
    "    try:\n",
    "        columns.append('{}{} Most Common Venue'.format(ind+1, indicators[ind]))\n",
    "    except:\n",
    "        columns.append('{}th Most Common Venue'.format(ind+1))\n",
    "\n",
    "# create a new dataframe\n",
    "neighborhoods_venues_sorted = pd.DataFrame(columns=columns)\n",
    "neighborhoods_venues_sorted['Neighborhood'] = Anderlecht_grouped['Neighborhood']\n",
    "\n",
    "for ind in np.arange(Anderlecht_grouped.shape[0]):\n",
    "    neighborhoods_venues_sorted.iloc[ind, 1:] = return_most_common_venues(Anderlecht_grouped.iloc[ind, :], num_top_venues)\n",
    "\n",
    "neighborhoods_venues_sorted.head()"
   ]
  },
  {
   "cell_type": "markdown",
   "metadata": {},
   "source": [
    "<a id='item4'></a>"
   ]
  },
  {
   "cell_type": "markdown",
   "metadata": {},
   "source": [
    "## 4. Cluster Neighborhoods"
   ]
  },
  {
   "cell_type": "markdown",
   "metadata": {},
   "source": [
    "Run *k*-means to cluster the neighborhood into 5 clusters."
   ]
  },
  {
   "cell_type": "code",
   "execution_count": 42,
   "metadata": {
    "collapsed": false,
    "jupyter": {
     "outputs_hidden": false
    }
   },
   "outputs": [
    {
     "data": {
      "text/plain": [
       "array([0, 2, 1, 1, 1], dtype=int32)"
      ]
     },
     "execution_count": 42,
     "metadata": {},
     "output_type": "execute_result"
    }
   ],
   "source": [
    "# set number of clusters\n",
    "kclusters = 3\n",
    "\n",
    "Anderlecht_grouped_clustering = Anderlecht_grouped.drop('Neighborhood', 1)\n",
    "\n",
    "# run k-means clustering\n",
    "kmeans = KMeans(n_clusters=kclusters, random_state=0).fit(Anderlecht_grouped_clustering)\n",
    "\n",
    "# check cluster labels generated for each row in the dataframe\n",
    "kmeans.labels_[0:10] "
   ]
  },
  {
   "cell_type": "markdown",
   "metadata": {},
   "source": [
    "Let's create a new dataframe that includes the cluster as well as the top 10 venues for each neighborhood."
   ]
  },
  {
   "cell_type": "code",
   "execution_count": 43,
   "metadata": {
    "collapsed": true,
    "jupyter": {
     "outputs_hidden": true
    }
   },
   "outputs": [
    {
     "data": {
      "text/html": [
       "<div>\n",
       "<style scoped>\n",
       "    .dataframe tbody tr th:only-of-type {\n",
       "        vertical-align: middle;\n",
       "    }\n",
       "\n",
       "    .dataframe tbody tr th {\n",
       "        vertical-align: top;\n",
       "    }\n",
       "\n",
       "    .dataframe thead th {\n",
       "        text-align: right;\n",
       "    }\n",
       "</style>\n",
       "<table border=\"1\" class=\"dataframe\">\n",
       "  <thead>\n",
       "    <tr style=\"text-align: right;\">\n",
       "      <th></th>\n",
       "      <th>Neighborhood</th>\n",
       "      <th>Latitude</th>\n",
       "      <th>Longitude</th>\n",
       "      <th>Cluster Labels</th>\n",
       "      <th>1st Most Common Venue</th>\n",
       "      <th>2nd Most Common Venue</th>\n",
       "      <th>3rd Most Common Venue</th>\n",
       "      <th>4th Most Common Venue</th>\n",
       "      <th>5th Most Common Venue</th>\n",
       "    </tr>\n",
       "  </thead>\n",
       "  <tbody>\n",
       "    <tr>\n",
       "      <th>0</th>\n",
       "      <td>Veeweyde</td>\n",
       "      <td>50.829479</td>\n",
       "      <td>4.300651</td>\n",
       "      <td>1</td>\n",
       "      <td>Park</td>\n",
       "      <td>Tram Station</td>\n",
       "      <td>Supermarket</td>\n",
       "      <td>Martial Arts School</td>\n",
       "      <td>Metro Station</td>\n",
       "    </tr>\n",
       "    <tr>\n",
       "      <th>1</th>\n",
       "      <td>La Roue</td>\n",
       "      <td>50.821117</td>\n",
       "      <td>4.293915</td>\n",
       "      <td>0</td>\n",
       "      <td>Pizza Place</td>\n",
       "      <td>Convenience Store</td>\n",
       "      <td>Food</td>\n",
       "      <td>Sandwich Place</td>\n",
       "      <td>Restaurant</td>\n",
       "    </tr>\n",
       "    <tr>\n",
       "      <th>2</th>\n",
       "      <td>Vogelenzang</td>\n",
       "      <td>50.816111</td>\n",
       "      <td>4.276944</td>\n",
       "      <td>1</td>\n",
       "      <td>Pharmacy</td>\n",
       "      <td>Clothing Store</td>\n",
       "      <td>Restaurant</td>\n",
       "      <td>Women's Store</td>\n",
       "      <td>Electronics Store</td>\n",
       "    </tr>\n",
       "    <tr>\n",
       "      <th>3</th>\n",
       "      <td>Scherdemael</td>\n",
       "      <td>50.831078</td>\n",
       "      <td>4.289412</td>\n",
       "      <td>1</td>\n",
       "      <td>Supermarket</td>\n",
       "      <td>Tram Station</td>\n",
       "      <td>Park</td>\n",
       "      <td>Pet Store</td>\n",
       "      <td>Bakery</td>\n",
       "    </tr>\n",
       "    <tr>\n",
       "      <th>4</th>\n",
       "      <td>Quartier des Trefles</td>\n",
       "      <td>50.824371</td>\n",
       "      <td>4.288487</td>\n",
       "      <td>2</td>\n",
       "      <td>Park</td>\n",
       "      <td>Gastropub</td>\n",
       "      <td>Supermarket</td>\n",
       "      <td>Sports Club</td>\n",
       "      <td>Gym</td>\n",
       "    </tr>\n",
       "  </tbody>\n",
       "</table>\n",
       "</div>"
      ],
      "text/plain": [
       "           Neighborhood   Latitude  Longitude  Cluster Labels  \\\n",
       "0              Veeweyde  50.829479   4.300651               1   \n",
       "1               La Roue  50.821117   4.293915               0   \n",
       "2           Vogelenzang  50.816111   4.276944               1   \n",
       "3           Scherdemael  50.831078   4.289412               1   \n",
       "4  Quartier des Trefles  50.824371   4.288487               2   \n",
       "\n",
       "  1st Most Common Venue 2nd Most Common Venue 3rd Most Common Venue  \\\n",
       "0                  Park          Tram Station           Supermarket   \n",
       "1           Pizza Place     Convenience Store                  Food   \n",
       "2              Pharmacy        Clothing Store            Restaurant   \n",
       "3           Supermarket          Tram Station                  Park   \n",
       "4                  Park             Gastropub           Supermarket   \n",
       "\n",
       "  4th Most Common Venue 5th Most Common Venue  \n",
       "0   Martial Arts School         Metro Station  \n",
       "1        Sandwich Place            Restaurant  \n",
       "2         Women's Store     Electronics Store  \n",
       "3             Pet Store                Bakery  \n",
       "4           Sports Club                   Gym  "
      ]
     },
     "execution_count": 43,
     "metadata": {},
     "output_type": "execute_result"
    }
   ],
   "source": [
    "# add clustering labels\n",
    "#del neighborhoods_venues_sorted\n",
    "neighborhoods_venues_sorted.insert(0, 'Cluster Labels', kmeans.labels_)\n",
    "\n",
    "Anderlecht_merged = Anderlecht_data\n",
    "\n",
    "# merge toronto_grouped with toronto_data to add latitude/longitude for each neighborhood\n",
    "Anderlecht_merged = Anderlecht_merged.join(neighborhoods_venues_sorted.set_index('Neighborhood'), on='Neighborhood')\n",
    "\n",
    "Anderlecht_merged.head() # check the last columns!"
   ]
  },
  {
   "cell_type": "markdown",
   "metadata": {},
   "source": [
    "Finally, let's visualize the resulting clusters"
   ]
  },
  {
   "cell_type": "code",
   "execution_count": 44,
   "metadata": {
    "collapsed": false,
    "jupyter": {
     "outputs_hidden": false
    }
   },
   "outputs": [
    {
     "data": {
      "text/html": [
       "<div style=\"width:100%;\"><div style=\"position:relative;width:100%;height:0;padding-bottom:60%;\"><span style=\"color:#565656\">Make this Notebook Trusted to load map: File -> Trust Notebook</span><iframe src=\"about:blank\" style=\"position:absolute;width:100%;height:100%;left:0;top:0;border:none !important;\" data-html=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 onload=\"this.contentDocument.open();this.contentDocument.write(atob(this.getAttribute('data-html')));this.contentDocument.close();\" allowfullscreen webkitallowfullscreen mozallowfullscreen></iframe></div></div>"
      ],
      "text/plain": [
       "<folium.folium.Map at 0x7fe402b34908>"
      ]
     },
     "execution_count": 44,
     "metadata": {},
     "output_type": "execute_result"
    }
   ],
   "source": [
    "# create map\n",
    "map_clusters = folium.Map(location=[latitude, longitude], zoom_start=11)\n",
    "\n",
    "# set color scheme for the clusters\n",
    "x = np.arange(kclusters)\n",
    "ys = [i + x + (i*x)**2 for i in range(kclusters)]\n",
    "colors_array = cm.rainbow(np.linspace(0, 1, len(ys)))\n",
    "rainbow = [colors.rgb2hex(i) for i in colors_array]\n",
    "\n",
    "# add markers to the map\n",
    "markers_colors = []\n",
    "for lat, lon, poi, cluster in zip(Anderlecht_merged['Latitude'], Anderlecht_merged['Longitude'], Anderlecht_merged['Neighborhood'], Anderlecht_merged['Cluster Labels']):\n",
    "    label = folium.Popup(str(poi) + ' Cluster ' + str(cluster), parse_html=True)\n",
    "    folium.CircleMarker(\n",
    "        [lat, lon],\n",
    "        radius=5,\n",
    "        popup=label,\n",
    "        color=rainbow[cluster-1],\n",
    "        fill=True,\n",
    "        fill_color=rainbow[cluster-1],\n",
    "        fill_opacity=0.7).add_to(map_clusters)\n",
    "       \n",
    "map_clusters"
   ]
  },
  {
   "cell_type": "markdown",
   "metadata": {},
   "source": [
    "<a id='item5'></a>"
   ]
  },
  {
   "cell_type": "markdown",
   "metadata": {},
   "source": [
    "## 5. Examine Clusters"
   ]
  },
  {
   "cell_type": "markdown",
   "metadata": {},
   "source": [
    "Now, you can examine each cluster and determine the discriminating venue categories that distinguish each cluster. Based on the defining categories, you can then assign a name to each cluster. I will leave this exercise to you."
   ]
  },
  {
   "cell_type": "markdown",
   "metadata": {},
   "source": [
    "#### Cluster 1"
   ]
  },
  {
   "cell_type": "code",
   "execution_count": 45,
   "metadata": {
    "collapsed": false,
    "jupyter": {
     "outputs_hidden": false
    }
   },
   "outputs": [
    {
     "data": {
      "text/html": [
       "<div>\n",
       "<style scoped>\n",
       "    .dataframe tbody tr th:only-of-type {\n",
       "        vertical-align: middle;\n",
       "    }\n",
       "\n",
       "    .dataframe tbody tr th {\n",
       "        vertical-align: top;\n",
       "    }\n",
       "\n",
       "    .dataframe thead th {\n",
       "        text-align: right;\n",
       "    }\n",
       "</style>\n",
       "<table border=\"1\" class=\"dataframe\">\n",
       "  <thead>\n",
       "    <tr style=\"text-align: right;\">\n",
       "      <th></th>\n",
       "      <th>Latitude</th>\n",
       "      <th>2nd Most Common Venue</th>\n",
       "      <th>3rd Most Common Venue</th>\n",
       "      <th>4th Most Common Venue</th>\n",
       "      <th>5th Most Common Venue</th>\n",
       "    </tr>\n",
       "  </thead>\n",
       "  <tbody>\n",
       "    <tr>\n",
       "      <th>1</th>\n",
       "      <td>50.821117</td>\n",
       "      <td>Convenience Store</td>\n",
       "      <td>Food</td>\n",
       "      <td>Sandwich Place</td>\n",
       "      <td>Restaurant</td>\n",
       "    </tr>\n",
       "  </tbody>\n",
       "</table>\n",
       "</div>"
      ],
      "text/plain": [
       "    Latitude 2nd Most Common Venue 3rd Most Common Venue  \\\n",
       "1  50.821117     Convenience Store                  Food   \n",
       "\n",
       "  4th Most Common Venue 5th Most Common Venue  \n",
       "1        Sandwich Place            Restaurant  "
      ]
     },
     "execution_count": 45,
     "metadata": {},
     "output_type": "execute_result"
    }
   ],
   "source": [
    "Anderlecht_merged.loc[Anderlecht_merged['Cluster Labels'] == 0, Anderlecht_merged.columns[[1] + list(range(5, Anderlecht_merged.shape[1]))]]"
   ]
  },
  {
   "cell_type": "markdown",
   "metadata": {},
   "source": [
    "#### Cluster 2"
   ]
  },
  {
   "cell_type": "code",
   "execution_count": 46,
   "metadata": {
    "collapsed": false,
    "jupyter": {
     "outputs_hidden": false
    }
   },
   "outputs": [
    {
     "data": {
      "text/html": [
       "<div>\n",
       "<style scoped>\n",
       "    .dataframe tbody tr th:only-of-type {\n",
       "        vertical-align: middle;\n",
       "    }\n",
       "\n",
       "    .dataframe tbody tr th {\n",
       "        vertical-align: top;\n",
       "    }\n",
       "\n",
       "    .dataframe thead th {\n",
       "        text-align: right;\n",
       "    }\n",
       "</style>\n",
       "<table border=\"1\" class=\"dataframe\">\n",
       "  <thead>\n",
       "    <tr style=\"text-align: right;\">\n",
       "      <th></th>\n",
       "      <th>Latitude</th>\n",
       "      <th>2nd Most Common Venue</th>\n",
       "      <th>3rd Most Common Venue</th>\n",
       "      <th>4th Most Common Venue</th>\n",
       "      <th>5th Most Common Venue</th>\n",
       "    </tr>\n",
       "  </thead>\n",
       "  <tbody>\n",
       "    <tr>\n",
       "      <th>0</th>\n",
       "      <td>50.829479</td>\n",
       "      <td>Tram Station</td>\n",
       "      <td>Supermarket</td>\n",
       "      <td>Martial Arts School</td>\n",
       "      <td>Metro Station</td>\n",
       "    </tr>\n",
       "    <tr>\n",
       "      <th>2</th>\n",
       "      <td>50.816111</td>\n",
       "      <td>Clothing Store</td>\n",
       "      <td>Restaurant</td>\n",
       "      <td>Women's Store</td>\n",
       "      <td>Electronics Store</td>\n",
       "    </tr>\n",
       "    <tr>\n",
       "      <th>3</th>\n",
       "      <td>50.831078</td>\n",
       "      <td>Tram Station</td>\n",
       "      <td>Park</td>\n",
       "      <td>Pet Store</td>\n",
       "      <td>Bakery</td>\n",
       "    </tr>\n",
       "  </tbody>\n",
       "</table>\n",
       "</div>"
      ],
      "text/plain": [
       "    Latitude 2nd Most Common Venue 3rd Most Common Venue  \\\n",
       "0  50.829479          Tram Station           Supermarket   \n",
       "2  50.816111        Clothing Store            Restaurant   \n",
       "3  50.831078          Tram Station                  Park   \n",
       "\n",
       "  4th Most Common Venue 5th Most Common Venue  \n",
       "0   Martial Arts School         Metro Station  \n",
       "2         Women's Store     Electronics Store  \n",
       "3             Pet Store                Bakery  "
      ]
     },
     "execution_count": 46,
     "metadata": {},
     "output_type": "execute_result"
    }
   ],
   "source": [
    "Anderlecht_merged.loc[Anderlecht_merged['Cluster Labels'] == 1, Anderlecht_merged.columns[[1] + list(range(5, Anderlecht_merged.shape[1]))]]"
   ]
  },
  {
   "cell_type": "markdown",
   "metadata": {},
   "source": [
    "#### Cluster 3"
   ]
  },
  {
   "cell_type": "code",
   "execution_count": 47,
   "metadata": {
    "collapsed": false,
    "jupyter": {
     "outputs_hidden": false
    }
   },
   "outputs": [
    {
     "data": {
      "text/html": [
       "<div>\n",
       "<style scoped>\n",
       "    .dataframe tbody tr th:only-of-type {\n",
       "        vertical-align: middle;\n",
       "    }\n",
       "\n",
       "    .dataframe tbody tr th {\n",
       "        vertical-align: top;\n",
       "    }\n",
       "\n",
       "    .dataframe thead th {\n",
       "        text-align: right;\n",
       "    }\n",
       "</style>\n",
       "<table border=\"1\" class=\"dataframe\">\n",
       "  <thead>\n",
       "    <tr style=\"text-align: right;\">\n",
       "      <th></th>\n",
       "      <th>Latitude</th>\n",
       "      <th>2nd Most Common Venue</th>\n",
       "      <th>3rd Most Common Venue</th>\n",
       "      <th>4th Most Common Venue</th>\n",
       "      <th>5th Most Common Venue</th>\n",
       "    </tr>\n",
       "  </thead>\n",
       "  <tbody>\n",
       "    <tr>\n",
       "      <th>4</th>\n",
       "      <td>50.824371</td>\n",
       "      <td>Gastropub</td>\n",
       "      <td>Supermarket</td>\n",
       "      <td>Sports Club</td>\n",
       "      <td>Gym</td>\n",
       "    </tr>\n",
       "  </tbody>\n",
       "</table>\n",
       "</div>"
      ],
      "text/plain": [
       "    Latitude 2nd Most Common Venue 3rd Most Common Venue  \\\n",
       "4  50.824371             Gastropub           Supermarket   \n",
       "\n",
       "  4th Most Common Venue 5th Most Common Venue  \n",
       "4           Sports Club                   Gym  "
      ]
     },
     "execution_count": 47,
     "metadata": {},
     "output_type": "execute_result"
    }
   ],
   "source": [
    "Anderlecht_merged.loc[Anderlecht_merged['Cluster Labels'] == 2, Anderlecht_merged.columns[[1] + list(range(5, Anderlecht_merged.shape[1]))]]"
   ]
  },
  {
   "cell_type": "markdown",
   "metadata": {},
   "source": [
    "#### Cluster 4"
   ]
  },
  {
   "cell_type": "code",
   "execution_count": 48,
   "metadata": {
    "collapsed": false,
    "jupyter": {
     "outputs_hidden": false
    }
   },
   "outputs": [
    {
     "data": {
      "text/html": [
       "<div>\n",
       "<style scoped>\n",
       "    .dataframe tbody tr th:only-of-type {\n",
       "        vertical-align: middle;\n",
       "    }\n",
       "\n",
       "    .dataframe tbody tr th {\n",
       "        vertical-align: top;\n",
       "    }\n",
       "\n",
       "    .dataframe thead th {\n",
       "        text-align: right;\n",
       "    }\n",
       "</style>\n",
       "<table border=\"1\" class=\"dataframe\">\n",
       "  <thead>\n",
       "    <tr style=\"text-align: right;\">\n",
       "      <th></th>\n",
       "      <th>Latitude</th>\n",
       "      <th>2nd Most Common Venue</th>\n",
       "      <th>3rd Most Common Venue</th>\n",
       "      <th>4th Most Common Venue</th>\n",
       "      <th>5th Most Common Venue</th>\n",
       "    </tr>\n",
       "  </thead>\n",
       "  <tbody>\n",
       "  </tbody>\n",
       "</table>\n",
       "</div>"
      ],
      "text/plain": [
       "Empty DataFrame\n",
       "Columns: [Latitude, 2nd Most Common Venue, 3rd Most Common Venue, 4th Most Common Venue, 5th Most Common Venue]\n",
       "Index: []"
      ]
     },
     "execution_count": 48,
     "metadata": {},
     "output_type": "execute_result"
    }
   ],
   "source": [
    "Anderlecht_merged.loc[Anderlecht_merged['Cluster Labels'] == 3, Anderlecht_merged.columns[[1] + list(range(5, Anderlecht_merged.shape[1]))]]"
   ]
  },
  {
   "cell_type": "markdown",
   "metadata": {},
   "source": [
    "#### Cluster 5"
   ]
  },
  {
   "cell_type": "code",
   "execution_count": 49,
   "metadata": {
    "collapsed": false,
    "jupyter": {
     "outputs_hidden": false
    }
   },
   "outputs": [
    {
     "data": {
      "text/html": [
       "<div>\n",
       "<style scoped>\n",
       "    .dataframe tbody tr th:only-of-type {\n",
       "        vertical-align: middle;\n",
       "    }\n",
       "\n",
       "    .dataframe tbody tr th {\n",
       "        vertical-align: top;\n",
       "    }\n",
       "\n",
       "    .dataframe thead th {\n",
       "        text-align: right;\n",
       "    }\n",
       "</style>\n",
       "<table border=\"1\" class=\"dataframe\">\n",
       "  <thead>\n",
       "    <tr style=\"text-align: right;\">\n",
       "      <th></th>\n",
       "      <th>Latitude</th>\n",
       "      <th>2nd Most Common Venue</th>\n",
       "      <th>3rd Most Common Venue</th>\n",
       "      <th>4th Most Common Venue</th>\n",
       "      <th>5th Most Common Venue</th>\n",
       "    </tr>\n",
       "  </thead>\n",
       "  <tbody>\n",
       "  </tbody>\n",
       "</table>\n",
       "</div>"
      ],
      "text/plain": [
       "Empty DataFrame\n",
       "Columns: [Latitude, 2nd Most Common Venue, 3rd Most Common Venue, 4th Most Common Venue, 5th Most Common Venue]\n",
       "Index: []"
      ]
     },
     "execution_count": 49,
     "metadata": {},
     "output_type": "execute_result"
    }
   ],
   "source": [
    "Anderlecht_merged.loc[Anderlecht_merged['Cluster Labels'] == 4, Anderlecht_merged.columns[[1] + list(range(5, Anderlecht_merged.shape[1]))]]"
   ]
  },
  {
   "cell_type": "markdown",
   "metadata": {},
   "source": [
    "# Conclusion\n",
    "Neighborhood data of Anderlecht have been analyzed in this report. It is been observed that there many diverse venues in Anderlecht. Choose \n",
    "a neighborhood in Anderlecht can be specific to the individual. There are more venues in Veeweyde. If person is more into restaurants then he/she have to go to La Raue. Adversely, if the person is looking for more sport clubs then he/she has choose\n",
    "Quartier des Trefles as a living place. One thing that we need to consider is that conclusion is based on data from foursquare. This data is collected based on inputs of user. That is why correctness of the data can be questioned."
   ]
  },
  {
   "cell_type": "code",
   "execution_count": null,
   "metadata": {},
   "outputs": [],
   "source": []
  },
  {
   "cell_type": "code",
   "execution_count": null,
   "metadata": {},
   "outputs": [],
   "source": []
  },
  {
   "cell_type": "code",
   "execution_count": null,
   "metadata": {},
   "outputs": [],
   "source": []
  }
 ],
 "metadata": {
  "kernelspec": {
   "display_name": "Python",
   "language": "python",
   "name": "conda-env-python-py"
  },
  "language_info": {
   "codemirror_mode": {
    "name": "ipython",
    "version": 3
   },
   "file_extension": ".py",
   "mimetype": "text/x-python",
   "name": "python",
   "nbconvert_exporter": "python",
   "pygments_lexer": "ipython3",
   "version": "3.6.11"
  },
  "widgets": {
   "state": {},
   "version": "1.1.2"
  }
 },
 "nbformat": 4,
 "nbformat_minor": 4
}
